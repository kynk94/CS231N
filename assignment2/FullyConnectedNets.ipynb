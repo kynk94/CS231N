{
  "cells": [
    {
      "cell_type": "markdown",
      "metadata": {
        "editable": true,
        "deletable": true,
        "pycharm": {}
      },
      "source": [
        "# Fully-Connected Neural Nets\n",
        "In the previous homework you implemented a fully-connected two-layer neural network on CIFAR-10. The implementation was simple but not very modular since the loss and gradient were computed in a single monolithic function. This is manageable for a simple two-layer network, but would become impractical as we move to bigger models. Ideally we want to build networks using a more modular design so that we can implement different layer types in isolation and then snap them together into models with different architectures.\n",
        "\n",
        "In this exercise we will implement fully-connected networks using a more modular approach. For each layer we will implement a `forward` and a `backward` function. The `forward` function will receive inputs, weights, and other parameters and will return both an output and a `cache` object storing data needed for the backward pass, like this:\n",
        "\n",
        "```python\n",
        "def layer_forward(x, w):\n",
        "  \"\"\" Receive inputs x and weights w \"\"\"\n",
        "  # Do some computations ...\n",
        "  z \u003d # ... some intermediate value\n",
        "  # Do some more computations ...\n",
        "  out \u003d # the output\n",
        "   \n",
        "  cache \u003d (x, w, z, out) # Values we need to compute gradients\n",
        "   \n",
        "  return out, cache\n",
        "```\n",
        "\n",
        "The backward pass will receive upstream derivatives and the `cache` object, and will return gradients with respect to the inputs and weights, like this:\n",
        "\n",
        "```python\n",
        "def layer_backward(dout, cache):\n",
        "  \"\"\"\n",
        "  Receive derivative of loss with respect to outputs and cache,\n",
        "  and compute derivative with respect to inputs.\n",
        "  \"\"\"\n",
        "  # Unpack cache values\n",
        "  x, w, z, out \u003d cache\n",
        "  \n",
        "  # Use values in cache to compute derivatives\n",
        "  dx \u003d # Derivative of loss with respect to x\n",
        "  dw \u003d # Derivative of loss with respect to w\n",
        "  \n",
        "  return dx, dw\n",
        "```\n",
        "\n",
        "After implementing a bunch of layers this way, we will be able to easily combine them to build classifiers with different architectures.\n",
        "\n",
        "In addition to implementing fully-connected networks of arbitrary depth, we will also explore different update rules for optimization, and introduce Dropout as a regularizer and Batch Normalization as a tool to more efficiently optimize deep networks.\n",
        "  "
      ]
    },
    {
      "cell_type": "code",
      "execution_count": 1,
      "metadata": {
        "collapsed": false,
        "editable": true,
        "deletable": true,
        "pycharm": {}
      },
      "outputs": [
        {
          "name": "stdout",
          "output_type": "stream",
          "text": [
            "run the following from the cs231n directory and try again:\npython setup.py build_ext --inplace\nYou may also need to restart your iPython kernel\n"
          ]
        }
      ],
      "source": "# As usual, a bit of setup\nimport time\nimport numpy as np\nimport matplotlib.pyplot as plt\nfrom cs231n.classifiers.fc_net import *\nfrom cs231n.data_utils import get_CIFAR10_data\nfrom cs231n.gradient_check import eval_numerical_gradient, eval_numerical_gradient_array\nfrom cs231n.solver import Solver\n\n%matplotlib inline\nplt.rcParams[\u0027figure.figsize\u0027] \u003d (10.0, 8.0) # set default size of plots\nplt.rcParams[\u0027image.interpolation\u0027] \u003d \u0027nearest\u0027\nplt.rcParams[\u0027image.cmap\u0027] \u003d \u0027gray\u0027\n\n# for auto-reloading external modules\n# see http://stackoverflow.com/questions/1907993/autoreload-of-modules-in-ipython\n%load_ext autoreload\n%autoreload 2\n\ndef rel_error(x, y):\n  \"\"\" returns relative error \"\"\"\n  return np.max(np.abs(x - y) / (np.maximum(1e-8, np.abs(x) + np.abs(y))))"
    },
    {
      "cell_type": "code",
      "execution_count": 2,
      "metadata": {
        "collapsed": false,
        "editable": true,
        "deletable": true,
        "pycharm": {}
      },
      "outputs": [
        {
          "name": "stdout",
          "output_type": "stream",
          "text": [
            "(\u0027X_train: \u0027, (49000, 3, 32, 32))\n(\u0027y_train: \u0027, (49000,))\n(\u0027X_val: \u0027, (1000, 3, 32, 32))\n(\u0027y_val: \u0027, (1000,))\n(\u0027X_test: \u0027, (1000, 3, 32, 32))\n(\u0027y_test: \u0027, (1000,))\n"
          ]
        }
      ],
      "source": [
        "# Load the (preprocessed) CIFAR10 data.\n",
        "\n",
        "data \u003d get_CIFAR10_data()\n",
        "for k, v in list(data.items()):\n",
        "  print((\u0027%s: \u0027 % k, v.shape))"
      ]
    },
    {
      "cell_type": "markdown",
      "metadata": {
        "editable": true,
        "deletable": true,
        "pycharm": {}
      },
      "source": [
        "# Affine layer: foward\n",
        "Open the file `cs231n/layers.py` and implement the `affine_forward` function.\n",
        "\n",
        "Once you are done you can test your implementaion by running the following:"
      ]
    },
    {
      "cell_type": "code",
      "execution_count": 3,
      "metadata": {
        "collapsed": false,
        "editable": true,
        "deletable": true,
        "pycharm": {}
      },
      "outputs": [
        {
          "name": "stdout",
          "output_type": "stream",
          "text": [
            "Testing affine_forward function:\ndifference:  9.769849468192957e-10\n"
          ]
        }
      ],
      "source": [
        "# Test the affine_forward function\n",
        "\n",
        "num_inputs \u003d 2\n",
        "input_shape \u003d (4, 5, 6)\n",
        "output_dim \u003d 3\n",
        "\n",
        "input_size \u003d num_inputs * np.prod(input_shape)\n",
        "weight_size \u003d output_dim * np.prod(input_shape)\n",
        "\n",
        "x \u003d np.linspace(-0.1, 0.5, num\u003dinput_size).reshape(num_inputs, *input_shape)\n",
        "w \u003d np.linspace(-0.2, 0.3, num\u003dweight_size).reshape(np.prod(input_shape), output_dim)\n",
        "b \u003d np.linspace(-0.3, 0.1, num\u003doutput_dim)\n",
        "\n",
        "out, _ \u003d affine_forward(x, w, b)\n",
        "correct_out \u003d np.array([[ 1.49834967,  1.70660132,  1.91485297],\n",
        "                        [ 3.25553199,  3.5141327,   3.77273342]])\n",
        "\n",
        "# Compare your output with ours. The error should be around 1e-9.\n",
        "print(\u0027Testing affine_forward function:\u0027)\n",
        "print(\u0027difference: \u0027, rel_error(out, correct_out))"
      ]
    },
    {
      "cell_type": "markdown",
      "metadata": {
        "editable": true,
        "deletable": true,
        "pycharm": {}
      },
      "source": [
        "# Affine layer: backward\n",
        "Now implement the `affine_backward` function and test your implementation using numeric gradient checking."
      ]
    },
    {
      "cell_type": "code",
      "execution_count": 4,
      "metadata": {
        "collapsed": false,
        "editable": true,
        "deletable": true,
        "pycharm": {}
      },
      "outputs": [
        {
          "name": "stdout",
          "output_type": "stream",
          "text": [
            "Testing affine_backward function:\ndx error:  5.399100368651805e-11\ndw error:  9.904211865398145e-11\ndb error:  2.4122867568119087e-11\n"
          ]
        }
      ],
      "source": [
        "# Test the affine_backward function\n",
        "np.random.seed(231)\n",
        "x \u003d np.random.randn(10, 2, 3)\n",
        "w \u003d np.random.randn(6, 5)\n",
        "b \u003d np.random.randn(5)\n",
        "dout \u003d np.random.randn(10, 5)\n",
        "\n",
        "dx_num \u003d eval_numerical_gradient_array(lambda x: affine_forward(x, w, b)[0], x, dout)\n",
        "dw_num \u003d eval_numerical_gradient_array(lambda w: affine_forward(x, w, b)[0], w, dout)\n",
        "db_num \u003d eval_numerical_gradient_array(lambda b: affine_forward(x, w, b)[0], b, dout)\n",
        "\n",
        "_, cache \u003d affine_forward(x, w, b)\n",
        "dx, dw, db \u003d affine_backward(dout, cache)\n",
        "\n",
        "# The error should be around 1e-10\n",
        "print(\u0027Testing affine_backward function:\u0027)\n",
        "print(\u0027dx error: \u0027, rel_error(dx_num, dx))\n",
        "print(\u0027dw error: \u0027, rel_error(dw_num, dw))\n",
        "print(\u0027db error: \u0027, rel_error(db_num, db))"
      ]
    },
    {
      "cell_type": "markdown",
      "metadata": {
        "editable": true,
        "deletable": true,
        "pycharm": {}
      },
      "source": [
        "# ReLU layer: forward\n",
        "Implement the forward pass for the ReLU activation function in the `relu_forward` function and test your implementation using the following:"
      ]
    },
    {
      "cell_type": "code",
      "execution_count": 5,
      "metadata": {
        "collapsed": false,
        "editable": true,
        "deletable": true,
        "pycharm": {}
      },
      "outputs": [
        {
          "name": "stdout",
          "output_type": "stream",
          "text": [
            "Testing relu_forward function:\ndifference:  4.999999798022158e-08\n"
          ]
        }
      ],
      "source": [
        "# Test the relu_forward function\n",
        "\n",
        "x \u003d np.linspace(-0.5, 0.5, num\u003d12).reshape(3, 4)\n",
        "\n",
        "out, _ \u003d relu_forward(x)\n",
        "correct_out \u003d np.array([[ 0.,          0.,          0.,          0.,        ],\n",
        "                        [ 0.,          0.,          0.04545455,  0.13636364,],\n",
        "                        [ 0.22727273,  0.31818182,  0.40909091,  0.5,       ]])\n",
        "\n",
        "# Compare your output with ours. The error should be around 5e-8\n",
        "print(\u0027Testing relu_forward function:\u0027)\n",
        "print(\u0027difference: \u0027, rel_error(out, correct_out))"
      ]
    },
    {
      "cell_type": "markdown",
      "metadata": {
        "editable": true,
        "deletable": true,
        "pycharm": {}
      },
      "source": [
        "# ReLU layer: backward\n",
        "Now implement the backward pass for the ReLU activation function in the `relu_backward` function and test your implementation using numeric gradient checking:"
      ]
    },
    {
      "cell_type": "code",
      "execution_count": 6,
      "metadata": {
        "collapsed": false,
        "editable": true,
        "deletable": true,
        "pycharm": {}
      },
      "outputs": [
        {
          "name": "stdout",
          "output_type": "stream",
          "text": [
            "Testing relu_backward function:\ndx error:  3.2756349136310288e-12\n"
          ]
        }
      ],
      "source": [
        "np.random.seed(231)\n",
        "x \u003d np.random.randn(10, 10)\n",
        "dout \u003d np.random.randn(*x.shape)\n",
        "\n",
        "dx_num \u003d eval_numerical_gradient_array(lambda x: relu_forward(x)[0], x, dout)\n",
        "\n",
        "_, cache \u003d relu_forward(x)\n",
        "dx \u003d relu_backward(dout, cache)\n",
        "\n",
        "# The error should be around 3e-12\n",
        "print(\u0027Testing relu_backward function:\u0027)\n",
        "print(\u0027dx error: \u0027, rel_error(dx_num, dx))"
      ]
    },
    {
      "cell_type": "markdown",
      "metadata": {
        "editable": true,
        "deletable": true,
        "pycharm": {}
      },
      "source": [
        "# \"Sandwich\" layers\n",
        "There are some common patterns of layers that are frequently used in neural nets. For example, affine layers are frequently followed by a ReLU nonlinearity. To make these common patterns easy, we define several convenience layers in the file `cs231n/layer_utils.py`.\n",
        "\n",
        "For now take a look at the `affine_relu_forward` and `affine_relu_backward` functions, and run the following to numerically gradient check the backward pass:"
      ]
    },
    {
      "cell_type": "code",
      "execution_count": 7,
      "metadata": {
        "collapsed": false,
        "editable": true,
        "deletable": true,
        "pycharm": {}
      },
      "outputs": [
        {
          "name": "stdout",
          "output_type": "stream",
          "text": [
            "Testing affine_relu_forward:\ndx error:  2.299579177309368e-11\ndw error:  8.162011105764925e-11\ndb error:  7.826724021458994e-12\n"
          ]
        }
      ],
      "source": [
        "from cs231n.layer_utils import affine_relu_forward, affine_relu_backward\n",
        "np.random.seed(231)\n",
        "x \u003d np.random.randn(2, 3, 4)\n",
        "w \u003d np.random.randn(12, 10)\n",
        "b \u003d np.random.randn(10)\n",
        "dout \u003d np.random.randn(2, 10)\n",
        "\n",
        "out, cache \u003d affine_relu_forward(x, w, b)\n",
        "dx, dw, db \u003d affine_relu_backward(dout, cache)\n",
        "\n",
        "dx_num \u003d eval_numerical_gradient_array(lambda x: affine_relu_forward(x, w, b)[0], x, dout)\n",
        "dw_num \u003d eval_numerical_gradient_array(lambda w: affine_relu_forward(x, w, b)[0], w, dout)\n",
        "db_num \u003d eval_numerical_gradient_array(lambda b: affine_relu_forward(x, w, b)[0], b, dout)\n",
        "\n",
        "print(\u0027Testing affine_relu_forward:\u0027)\n",
        "print(\u0027dx error: \u0027, rel_error(dx_num, dx))\n",
        "print(\u0027dw error: \u0027, rel_error(dw_num, dw))\n",
        "print(\u0027db error: \u0027, rel_error(db_num, db))"
      ]
    },
    {
      "cell_type": "markdown",
      "metadata": {
        "editable": true,
        "deletable": true,
        "pycharm": {}
      },
      "source": [
        "# Loss layers: Softmax and SVM\n",
        "You implemented these loss functions in the last assignment, so we\u0027ll give them to you for free here. You should still make sure you understand how they work by looking at the implementations in `cs231n/layers.py`.\n",
        "\n",
        "You can make sure that the implementations are correct by running the following:"
      ]
    },
    {
      "cell_type": "code",
      "execution_count": 8,
      "metadata": {
        "collapsed": false,
        "editable": true,
        "deletable": true,
        "pycharm": {}
      },
      "outputs": [
        {
          "name": "stdout",
          "output_type": "stream",
          "text": [
            "Testing svm_loss:\nloss:  8.999602749096233\ndx error:  1.4021566006651672e-09\n\nTesting softmax_loss:\nloss:  2.302545844500738\ndx error:  9.384673161989355e-09\n"
          ]
        }
      ],
      "source": [
        "np.random.seed(231)\n",
        "num_classes, num_inputs \u003d 10, 50\n",
        "x \u003d 0.001 * np.random.randn(num_inputs, num_classes)\n",
        "y \u003d np.random.randint(num_classes, size\u003dnum_inputs)\n",
        "\n",
        "dx_num \u003d eval_numerical_gradient(lambda x: svm_loss(x, y)[0], x, verbose\u003dFalse)\n",
        "loss, dx \u003d svm_loss(x, y)\n",
        "\n",
        "# Test svm_loss function. Loss should be around 9 and dx error should be 1e-9\n",
        "print(\u0027Testing svm_loss:\u0027)\n",
        "print(\u0027loss: \u0027, loss)\n",
        "print(\u0027dx error: \u0027, rel_error(dx_num, dx))\n",
        "\n",
        "dx_num \u003d eval_numerical_gradient(lambda x: softmax_loss(x, y)[0], x, verbose\u003dFalse)\n",
        "loss, dx \u003d softmax_loss(x, y)\n",
        "\n",
        "# Test softmax_loss function. Loss should be 2.3 and dx error should be 1e-8\n",
        "print(\u0027\\nTesting softmax_loss:\u0027)\n",
        "print(\u0027loss: \u0027, loss)\n",
        "print(\u0027dx error: \u0027, rel_error(dx_num, dx))"
      ]
    },
    {
      "cell_type": "markdown",
      "metadata": {
        "editable": true,
        "deletable": true,
        "pycharm": {}
      },
      "source": [
        "# Two-layer network\n",
        "In the previous assignment you implemented a two-layer neural network in a single monolithic class. Now that you have implemented modular versions of the necessary layers, you will reimplement the two layer network using these modular implementations.\n",
        "\n",
        "Open the file `cs231n/classifiers/fc_net.py` and complete the implementation of the `TwoLayerNet` class. This class will serve as a model for the other networks you will implement in this assignment, so read through it to make sure you understand the API. You can run the cell below to test your implementation."
      ]
    },
    {
      "cell_type": "code",
      "execution_count": 9,
      "metadata": {
        "collapsed": false,
        "editable": true,
        "deletable": true,
        "pycharm": {}
      },
      "outputs": [
        {
          "name": "stdout",
          "output_type": "stream",
          "text": [
            "Testing initialization ... \nTesting test-time forward pass ... \nTesting training loss (no regularization)\nRunning numeric gradient check with reg \u003d  0.0\nW1 relative error: 1.83e-08\n"
          ]
        },
        {
          "name": "stdout",
          "output_type": "stream",
          "text": [
            "W2 relative error: 3.12e-10\nb1 relative error: 9.83e-09\nb2 relative error: 4.33e-10\nRunning numeric gradient check with reg \u003d  0.7\nW1 relative error: 2.53e-07\n"
          ]
        },
        {
          "name": "stdout",
          "output_type": "stream",
          "text": [
            "W2 relative error: 2.85e-08\nb1 relative error: 1.56e-08\nb2 relative error: 7.76e-10\n"
          ]
        }
      ],
      "source": [
        "np.random.seed(231)\n",
        "N, D, H, C \u003d 3, 5, 50, 7\n",
        "X \u003d np.random.randn(N, D)\n",
        "y \u003d np.random.randint(C, size\u003dN)\n",
        "\n",
        "std \u003d 1e-3\n",
        "model \u003d TwoLayerNet(input_dim\u003dD, hidden_dim\u003dH, num_classes\u003dC, weight_scale\u003dstd)\n",
        "\n",
        "print(\u0027Testing initialization ... \u0027)\n",
        "W1_std \u003d abs(model.params[\u0027W1\u0027].std() - std)\n",
        "b1 \u003d model.params[\u0027b1\u0027]\n",
        "W2_std \u003d abs(model.params[\u0027W2\u0027].std() - std)\n",
        "b2 \u003d model.params[\u0027b2\u0027]\n",
        "assert W1_std \u003c std / 10, \u0027First layer weights do not seem right\u0027\n",
        "assert np.all(b1 \u003d\u003d 0), \u0027First layer biases do not seem right\u0027\n",
        "assert W2_std \u003c std / 10, \u0027Second layer weights do not seem right\u0027\n",
        "assert np.all(b2 \u003d\u003d 0), \u0027Second layer biases do not seem right\u0027\n",
        "\n",
        "print(\u0027Testing test-time forward pass ... \u0027)\n",
        "model.params[\u0027W1\u0027] \u003d np.linspace(-0.7, 0.3, num\u003dD*H).reshape(D, H)\n",
        "model.params[\u0027b1\u0027] \u003d np.linspace(-0.1, 0.9, num\u003dH)\n",
        "model.params[\u0027W2\u0027] \u003d np.linspace(-0.3, 0.4, num\u003dH*C).reshape(H, C)\n",
        "model.params[\u0027b2\u0027] \u003d np.linspace(-0.9, 0.1, num\u003dC)\n",
        "X \u003d np.linspace(-5.5, 4.5, num\u003dN*D).reshape(D, N).T\n",
        "scores \u003d model.loss(X)\n",
        "correct_scores \u003d np.asarray(\n",
        "  [[11.53165108,  12.2917344,   13.05181771,  13.81190102,  14.57198434, 15.33206765,  16.09215096],\n",
        "   [12.05769098,  12.74614105,  13.43459113,  14.1230412,   14.81149128, 15.49994135,  16.18839143],\n",
        "   [12.58373087,  13.20054771,  13.81736455,  14.43418138,  15.05099822, 15.66781506,  16.2846319 ]])\n",
        "scores_diff \u003d np.abs(scores - correct_scores).sum()\n",
        "assert scores_diff \u003c 1e-6, \u0027Problem with test-time forward pass\u0027\n",
        "\n",
        "print(\u0027Testing training loss (no regularization)\u0027)\n",
        "y \u003d np.asarray([0, 5, 1])\n",
        "loss, grads \u003d model.loss(X, y)\n",
        "correct_loss \u003d 3.4702243556\n",
        "assert abs(loss - correct_loss) \u003c 1e-10, \u0027Problem with training-time loss\u0027\n",
        "\n",
        "model.reg \u003d 1.0\n",
        "loss, grads \u003d model.loss(X, y)\n",
        "correct_loss \u003d 26.5948426952\n",
        "assert abs(loss - correct_loss) \u003c 1e-10, \u0027Problem with regularization loss\u0027\n",
        "\n",
        "for reg in [0.0, 0.7]:\n",
        "  print(\u0027Running numeric gradient check with reg \u003d \u0027, reg)\n",
        "  model.reg \u003d reg\n",
        "  loss, grads \u003d model.loss(X, y)\n",
        "\n",
        "  for name in sorted(grads):\n",
        "    f \u003d lambda _: model.loss(X, y)[0]\n",
        "    grad_num \u003d eval_numerical_gradient(f, model.params[name], verbose\u003dFalse)\n",
        "    print(\u0027%s relative error: %.2e\u0027 % (name, rel_error(grad_num, grads[name])))"
      ]
    },
    {
      "cell_type": "markdown",
      "metadata": {
        "editable": true,
        "deletable": true,
        "pycharm": {}
      },
      "source": [
        "# Solver\n",
        "In the previous assignment, the logic for training models was coupled to the models themselves. Following a more modular design, for this assignment we have split the logic for training models into a separate class.\n",
        "\n",
        "Open the file `cs231n/solver.py` and read through it to familiarize yourself with the API. After doing so, use a `Solver` instance to train a `TwoLayerNet` that achieves at least `50%` accuracy on the validation set."
      ]
    },
    {
      "cell_type": "code",
      "execution_count": 12,
      "metadata": {
        "collapsed": false,
        "editable": true,
        "deletable": true,
        "pycharm": {}
      },
      "outputs": [
        {
          "name": "stdout",
          "output_type": "stream",
          "text": [
            "(Iteration 1 / 4900) loss: 2.320208\n(Epoch 0 / 10) train acc: 0.124000; val_acc: 0.122000\n"
          ]
        },
        {
          "name": "stdout",
          "output_type": "stream",
          "text": [
            "(Iteration 101 / 4900) loss: 1.814053\n"
          ]
        },
        {
          "name": "stdout",
          "output_type": "stream",
          "text": [
            "(Iteration 201 / 4900) loss: 1.697148\n"
          ]
        },
        {
          "name": "stdout",
          "output_type": "stream",
          "text": [
            "(Iteration 301 / 4900) loss: 1.579203\n"
          ]
        },
        {
          "name": "stdout",
          "output_type": "stream",
          "text": [
            "(Iteration 401 / 4900) loss: 1.611678\n"
          ]
        },
        {
          "name": "stdout",
          "output_type": "stream",
          "text": [
            "(Epoch 1 / 10) train acc: 0.403000; val_acc: 0.445000\n(Iteration 501 / 4900) loss: 1.610362\n"
          ]
        },
        {
          "name": "stdout",
          "output_type": "stream",
          "text": [
            "(Iteration 601 / 4900) loss: 1.684251\n"
          ]
        },
        {
          "name": "stdout",
          "output_type": "stream",
          "text": [
            "(Iteration 701 / 4900) loss: 1.401643\n"
          ]
        },
        {
          "name": "stdout",
          "output_type": "stream",
          "text": [
            "(Iteration 801 / 4900) loss: 1.507284\n"
          ]
        },
        {
          "name": "stdout",
          "output_type": "stream",
          "text": [
            "(Iteration 901 / 4900) loss: 1.549313\n"
          ]
        },
        {
          "name": "stdout",
          "output_type": "stream",
          "text": [
            "(Epoch 2 / 10) train acc: 0.471000; val_acc: 0.481000\n"
          ]
        },
        {
          "name": "stdout",
          "output_type": "stream",
          "text": [
            "(Iteration 1001 / 4900) loss: 1.473579\n"
          ]
        },
        {
          "name": "stdout",
          "output_type": "stream",
          "text": [
            "(Iteration 1101 / 4900) loss: 1.376755\n"
          ]
        },
        {
          "name": "stdout",
          "output_type": "stream",
          "text": [
            "(Iteration 1201 / 4900) loss: 1.506759\n"
          ]
        },
        {
          "name": "stdout",
          "output_type": "stream",
          "text": [
            "(Iteration 1301 / 4900) loss: 1.491139\n"
          ]
        },
        {
          "name": "stdout",
          "output_type": "stream",
          "text": [
            "(Iteration 1401 / 4900) loss: 1.408307\n"
          ]
        },
        {
          "name": "stdout",
          "output_type": "stream",
          "text": [
            "(Epoch 3 / 10) train acc: 0.525000; val_acc: 0.483000\n"
          ]
        },
        {
          "name": "stdout",
          "output_type": "stream",
          "text": [
            "(Iteration 1501 / 4900) loss: 1.399396\n"
          ]
        },
        {
          "name": "stdout",
          "output_type": "stream",
          "text": [
            "(Iteration 1601 / 4900) loss: 1.334594\n"
          ]
        },
        {
          "name": "stdout",
          "output_type": "stream",
          "text": [
            "(Iteration 1701 / 4900) loss: 1.463465\n"
          ]
        },
        {
          "name": "stdout",
          "output_type": "stream",
          "text": [
            "(Iteration 1801 / 4900) loss: 1.281108\n"
          ]
        },
        {
          "name": "stdout",
          "output_type": "stream",
          "text": [
            "(Iteration 1901 / 4900) loss: 1.675986\n"
          ]
        },
        {
          "name": "stdout",
          "output_type": "stream",
          "text": [
            "(Epoch 4 / 10) train acc: 0.557000; val_acc: 0.498000\n"
          ]
        },
        {
          "name": "stdout",
          "output_type": "stream",
          "text": [
            "(Iteration 2001 / 4900) loss: 1.381702\n"
          ]
        },
        {
          "name": "stdout",
          "output_type": "stream",
          "text": [
            "(Iteration 2101 / 4900) loss: 1.213375\n"
          ]
        },
        {
          "name": "stdout",
          "output_type": "stream",
          "text": [
            "(Iteration 2201 / 4900) loss: 1.187790\n"
          ]
        },
        {
          "name": "stdout",
          "output_type": "stream",
          "text": [
            "(Iteration 2301 / 4900) loss: 1.490034\n"
          ]
        },
        {
          "name": "stdout",
          "output_type": "stream",
          "text": [
            "(Iteration 2401 / 4900) loss: 1.197170\n"
          ]
        },
        {
          "name": "stdout",
          "output_type": "stream",
          "text": [
            "(Epoch 5 / 10) train acc: 0.558000; val_acc: 0.491000\n"
          ]
        },
        {
          "name": "stdout",
          "output_type": "stream",
          "text": [
            "(Iteration 2501 / 4900) loss: 1.636738\n"
          ]
        },
        {
          "name": "stdout",
          "output_type": "stream",
          "text": [
            "(Iteration 2601 / 4900) loss: 1.324060\n"
          ]
        },
        {
          "name": "stdout",
          "output_type": "stream",
          "text": [
            "(Iteration 2701 / 4900) loss: 1.463819\n"
          ]
        },
        {
          "name": "stdout",
          "output_type": "stream",
          "text": [
            "(Iteration 2801 / 4900) loss: 1.418704\n"
          ]
        },
        {
          "name": "stdout",
          "output_type": "stream",
          "text": [
            "(Iteration 2901 / 4900) loss: 1.314758\n"
          ]
        },
        {
          "name": "stdout",
          "output_type": "stream",
          "text": [
            "(Epoch 6 / 10) train acc: 0.549000; val_acc: 0.477000\n"
          ]
        },
        {
          "name": "stdout",
          "output_type": "stream",
          "text": [
            "(Iteration 3001 / 4900) loss: 1.351203\n"
          ]
        },
        {
          "name": "stdout",
          "output_type": "stream",
          "text": [
            "(Iteration 3101 / 4900) loss: 1.354227\n"
          ]
        },
        {
          "name": "stdout",
          "output_type": "stream",
          "text": [
            "(Iteration 3201 / 4900) loss: 1.409911\n"
          ]
        },
        {
          "name": "stdout",
          "output_type": "stream",
          "text": [
            "(Iteration 3301 / 4900) loss: 1.300641\n"
          ]
        },
        {
          "name": "stdout",
          "output_type": "stream",
          "text": [
            "(Iteration 3401 / 4900) loss: 1.361257\n"
          ]
        },
        {
          "name": "stdout",
          "output_type": "stream",
          "text": [
            "(Epoch 7 / 10) train acc: 0.579000; val_acc: 0.489000\n"
          ]
        },
        {
          "name": "stdout",
          "output_type": "stream",
          "text": [
            "(Iteration 3501 / 4900) loss: 1.686768\n"
          ]
        },
        {
          "name": "stdout",
          "output_type": "stream",
          "text": [
            "(Iteration 3601 / 4900) loss: 1.354306\n"
          ]
        },
        {
          "name": "stdout",
          "output_type": "stream",
          "text": [
            "(Iteration 3701 / 4900) loss: 1.280939\n"
          ]
        },
        {
          "name": "stdout",
          "output_type": "stream",
          "text": [
            "(Iteration 3801 / 4900) loss: 1.239097\n"
          ]
        },
        {
          "name": "stdout",
          "output_type": "stream",
          "text": [
            "(Iteration 3901 / 4900) loss: 1.238987\n"
          ]
        },
        {
          "name": "stdout",
          "output_type": "stream",
          "text": [
            "(Epoch 8 / 10) train acc: 0.564000; val_acc: 0.488000\n"
          ]
        },
        {
          "name": "stdout",
          "output_type": "stream",
          "text": [
            "(Iteration 4001 / 4900) loss: 1.226449\n"
          ]
        },
        {
          "name": "stdout",
          "output_type": "stream",
          "text": [
            "(Iteration 4101 / 4900) loss: 1.465251\n"
          ]
        },
        {
          "name": "stdout",
          "output_type": "stream",
          "text": [
            "(Iteration 4201 / 4900) loss: 1.175338\n"
          ]
        },
        {
          "name": "stdout",
          "output_type": "stream",
          "text": [
            "(Iteration 4301 / 4900) loss: 1.183726\n"
          ]
        },
        {
          "name": "stdout",
          "output_type": "stream",
          "text": [
            "(Iteration 4401 / 4900) loss: 1.601352\n(Epoch 9 / 10) train acc: 0.582000; val_acc: 0.488000\n"
          ]
        },
        {
          "name": "stdout",
          "output_type": "stream",
          "text": [
            "(Iteration 4501 / 4900) loss: 1.430261\n"
          ]
        },
        {
          "name": "stdout",
          "output_type": "stream",
          "text": [
            "(Iteration 4601 / 4900) loss: 1.253468\n"
          ]
        },
        {
          "name": "stdout",
          "output_type": "stream",
          "text": [
            "(Iteration 4701 / 4900) loss: 1.311087\n"
          ]
        },
        {
          "name": "stdout",
          "output_type": "stream",
          "text": [
            "(Iteration 4801 / 4900) loss: 1.392693\n"
          ]
        },
        {
          "name": "stdout",
          "output_type": "stream",
          "text": [
            "(Epoch 10 / 10) train acc: 0.578000; val_acc: 0.520000\n"
          ]
        }
      ],
      "source": [
        "model \u003d TwoLayerNet()\n",
        "solver \u003d None\n",
        "\n",
        "##############################################################################\n",
        "# TODO: Use a Solver instance to train a TwoLayerNet that achieves at least  #\n",
        "# 50% accuracy on the validation set.                                        #\n",
        "##############################################################################\n",
        "model \u003d TwoLayerNet(hidden_dim\u003d100, reg\u003d1e-1)\n",
        "solver \u003d Solver(model, data, optim_config\u003d{\u0027learning_rate\u0027:7.5e-4}, print_every\u003d100, verbose\u003dTrue)\n",
        "solver.train()\n",
        "##############################################################################\n",
        "#                             END OF YOUR CODE                               #\n",
        "##############################################################################"
      ]
    },
    {
      "cell_type": "code",
      "execution_count": 13,
      "metadata": {
        "collapsed": false,
        "editable": true,
        "deletable": true,
        "pycharm": {}
      },
      "outputs": [
        {
          "data": {
            "image/png": "[encoded data removed]",
            "text/plain": [
              "\u003cFigure size 1080x864 with 2 Axes\u003e"
            ]
          },
          "metadata": {},
          "output_type": "display_data"
        }
      ],
      "source": [
        "# Run this cell to visualize training loss and train / val accuracy\n",
        "\n",
        "plt.subplot(2, 1, 1)\n",
        "plt.title(\u0027Training loss\u0027)\n",
        "plt.plot(solver.loss_history, \u0027o\u0027)\n",
        "plt.xlabel(\u0027Iteration\u0027)\n",
        "\n",
        "plt.subplot(2, 1, 2)\n",
        "plt.title(\u0027Accuracy\u0027)\n",
        "plt.plot(solver.train_acc_history, \u0027-o\u0027, label\u003d\u0027train\u0027)\n",
        "plt.plot(solver.val_acc_history, \u0027-o\u0027, label\u003d\u0027val\u0027)\n",
        "plt.plot([0.5] * len(solver.val_acc_history), \u0027k--\u0027)\n",
        "plt.xlabel(\u0027Epoch\u0027)\n",
        "plt.legend(loc\u003d\u0027lower right\u0027)\n",
        "plt.gcf().set_size_inches(15, 12)\n",
        "plt.show()"
      ]
    },
    {
      "cell_type": "markdown",
      "metadata": {
        "editable": true,
        "deletable": true,
        "pycharm": {}
      },
      "source": [
        "# Multilayer network\n",
        "Next you will implement a fully-connected network with an arbitrary number of hidden layers.\n",
        "\n",
        "Read through the `FullyConnectedNet` class in the file `cs231n/classifiers/fc_net.py`.\n",
        "\n",
        "Implement the initialization, the forward pass, and the backward pass. For the moment don\u0027t worry about implementing dropout or batch normalization; we will add those features soon."
      ]
    },
    {
      "cell_type": "markdown",
      "metadata": {
        "editable": true,
        "deletable": true,
        "pycharm": {}
      },
      "source": [
        "## Initial loss and gradient check"
      ]
    },
    {
      "cell_type": "markdown",
      "metadata": {
        "editable": true,
        "deletable": true,
        "pycharm": {}
      },
      "source": [
        "As a sanity check, run the following to check the initial loss and to gradient check the network both with and without regularization. Do the initial losses seem reasonable?\n",
        "\n",
        "For gradient checking, you should expect to see errors around 1e-6 or less."
      ]
    },
    {
      "cell_type": "code",
      "execution_count": 15,
      "metadata": {
        "collapsed": false,
        "editable": true,
        "deletable": true,
        "pycharm": {}
      },
      "outputs": [
        {
          "name": "stdout",
          "output_type": "stream",
          "text": [
            "Running check with reg \u003d  0\nInitial loss:  2.3004790897684924\nW0 relative error: 1.48e-07\n"
          ]
        },
        {
          "name": "stdout",
          "output_type": "stream",
          "text": [
            "W1 relative error: 2.21e-05\n"
          ]
        },
        {
          "name": "stdout",
          "output_type": "stream",
          "text": [
            "W2 relative error: 3.53e-07\nb0 relative error: 5.38e-09\nb1 relative error: 2.09e-09\nb2 relative error: 5.80e-11\nRunning check with reg \u003d  3.14\nInitial loss:  7.052114776533016\n"
          ]
        },
        {
          "name": "stdout",
          "output_type": "stream",
          "text": [
            "W0 relative error: 7.36e-09\n"
          ]
        },
        {
          "name": "stdout",
          "output_type": "stream",
          "text": [
            "W1 relative error: 6.87e-08\nW2 relative error: 3.48e-08\nb0 relative error: 1.48e-08\nb1 relative error: 1.72e-09\nb2 relative error: 1.80e-10\n"
          ]
        }
      ],
      "source": [
        "np.random.seed(231)\n",
        "N, D, H1, H2, C \u003d 2, 15, 20, 30, 10\n",
        "X \u003d np.random.randn(N, D)\n",
        "y \u003d np.random.randint(C, size\u003d(N,))\n",
        "\n",
        "for reg in [0, 3.14]:\n",
        "  print(\u0027Running check with reg \u003d \u0027, reg)\n",
        "  model \u003d FullyConnectedNet([H1, H2], input_dim\u003dD, num_classes\u003dC,\n",
        "                            reg\u003dreg, weight_scale\u003d5e-2, dtype\u003dnp.float64)\n",
        "\n",
        "  loss, grads \u003d model.loss(X, y)\n",
        "  print(\u0027Initial loss: \u0027, loss)\n",
        "\n",
        "  for name in sorted(grads):\n",
        "    f \u003d lambda _: model.loss(X, y)[0]\n",
        "    grad_num \u003d eval_numerical_gradient(f, model.params[name], verbose\u003dFalse, h\u003d1e-5)\n",
        "    print(\u0027%s relative error: %.2e\u0027 % (name, rel_error(grad_num, grads[name])))"
      ]
    },
    {
      "cell_type": "markdown",
      "metadata": {
        "editable": true,
        "deletable": true,
        "pycharm": {}
      },
      "source": [
        "As another sanity check, make sure you can overfit a small dataset of 50 images. First we will try a three-layer network with 100 units in each hidden layer. You will need to tweak the learning rate and initialization scale, but you should be able to overfit and achieve 100% training accuracy within 20 epochs."
      ]
    },
    {
      "cell_type": "code",
      "execution_count": 20,
      "metadata": {
        "scrolled": false,
        "collapsed": false,
        "editable": true,
        "deletable": true,
        "pycharm": {}
      },
      "outputs": [
        {
          "name": "stdout",
          "output_type": "stream",
          "text": [
            "(Iteration 1 / 40) loss: 8.471083\n(Epoch 0 / 20) train acc: 0.240000; val_acc: 0.117000\n(Epoch 1 / 20) train acc: 0.340000; val_acc: 0.103000\n(Epoch 2 / 20) train acc: 0.400000; val_acc: 0.109000\n"
          ]
        },
        {
          "name": "stdout",
          "output_type": "stream",
          "text": [
            "(Epoch 3 / 20) train acc: 0.620000; val_acc: 0.129000\n(Epoch 4 / 20) train acc: 0.700000; val_acc: 0.122000\n(Epoch 5 / 20) train acc: 0.800000; val_acc: 0.125000\n(Iteration 11 / 40) loss: 0.823935\n"
          ]
        },
        {
          "name": "stdout",
          "output_type": "stream",
          "text": [
            "(Epoch 6 / 20) train acc: 0.900000; val_acc: 0.129000\n(Epoch 7 / 20) train acc: 0.920000; val_acc: 0.140000\n(Epoch 8 / 20) train acc: 0.940000; val_acc: 0.133000\n"
          ]
        },
        {
          "name": "stdout",
          "output_type": "stream",
          "text": [
            "(Epoch 9 / 20) train acc: 0.940000; val_acc: 0.128000\n(Epoch 10 / 20) train acc: 0.920000; val_acc: 0.129000\n(Iteration 21 / 40) loss: 0.239099\n(Epoch 11 / 20) train acc: 0.940000; val_acc: 0.132000\n"
          ]
        },
        {
          "name": "stdout",
          "output_type": "stream",
          "text": [
            "(Epoch 12 / 20) train acc: 0.960000; val_acc: 0.127000\n(Epoch 13 / 20) train acc: 0.980000; val_acc: 0.133000\n(Epoch 14 / 20) train acc: 0.980000; val_acc: 0.130000\n"
          ]
        },
        {
          "name": "stdout",
          "output_type": "stream",
          "text": [
            "(Epoch 15 / 20) train acc: 1.000000; val_acc: 0.129000\n(Iteration 31 / 40) loss: 0.100667\n(Epoch 16 / 20) train acc: 0.980000; val_acc: 0.131000\n(Epoch 17 / 20) train acc: 1.000000; val_acc: 0.132000\n"
          ]
        },
        {
          "name": "stdout",
          "output_type": "stream",
          "text": [
            "(Epoch 18 / 20) train acc: 1.000000; val_acc: 0.134000\n(Epoch 19 / 20) train acc: 1.000000; val_acc: 0.135000\n(Epoch 20 / 20) train acc: 1.000000; val_acc: 0.134000\n"
          ]
        },
        {
          "data": {
            "image/png": "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\u003d\u003d\n",
            "text/plain": [
              "\u003cFigure size 720x576 with 1 Axes\u003e"
            ]
          },
          "metadata": {},
          "output_type": "display_data"
        }
      ],
      "source": [
        "# TODO: Use a three-layer Net to overfit 50 training examples.\n",
        "\n",
        "num_train \u003d 50\n",
        "small_data \u003d {\n",
        "  \u0027X_train\u0027: data[\u0027X_train\u0027][:num_train],\n",
        "  \u0027y_train\u0027: data[\u0027y_train\u0027][:num_train],\n",
        "  \u0027X_val\u0027: data[\u0027X_val\u0027],\n",
        "  \u0027y_val\u0027: data[\u0027y_val\u0027],\n",
        "}\n",
        "\n",
        "weight_scale \u003d 3e-2     # 1e-2\n",
        "learning_rate \u003d 1e-3    # 1e-4\n",
        "\n",
        "model \u003d FullyConnectedNet([100, 100],\n",
        "              weight_scale\u003dweight_scale, dtype\u003dnp.float64, use_batchnorm\u003dFalse)\n",
        "solver \u003d Solver(model, small_data,\n",
        "                print_every\u003d10, num_epochs\u003d20, batch_size\u003d25,\n",
        "                update_rule\u003d\u0027sgd\u0027,\n",
        "                optim_config\u003d{\n",
        "                  \u0027learning_rate\u0027: learning_rate,\n",
        "                }\n",
        "         )\n",
        "solver.train()\n",
        "\n",
        "plt.plot(solver.loss_history, \u0027o\u0027)\n",
        "plt.title(\u0027Training loss history\u0027)\n",
        "plt.xlabel(\u0027Iteration\u0027)\n",
        "plt.ylabel(\u0027Training loss\u0027)\n",
        "plt.show()"
      ]
    },
    {
      "cell_type": "markdown",
      "metadata": {
        "editable": true,
        "deletable": true,
        "pycharm": {}
      },
      "source": [
        "Now try to use a five-layer network with 100 units on each layer to overfit 50 training examples. Again you will have to adjust the learning rate and weight initialization, but you should be able to achieve 100% training accuracy within 20 epochs."
      ]
    },
    {
      "cell_type": "code",
      "execution_count": 34,
      "metadata": {
        "collapsed": false,
        "editable": true,
        "deletable": true,
        "pycharm": {}
      },
      "outputs": [
        {
          "name": "stdout",
          "output_type": "stream",
          "text": [
            "(Iteration 1 / 40) loss: 177.503882\n(Epoch 0 / 20) train acc: 0.180000; val_acc: 0.117000\n(Epoch 1 / 20) train acc: 0.300000; val_acc: 0.133000\n(Epoch 2 / 20) train acc: 0.340000; val_acc: 0.090000\n"
          ]
        },
        {
          "name": "stdout",
          "output_type": "stream",
          "text": [
            "(Epoch 3 / 20) train acc: 0.320000; val_acc: 0.123000\n(Epoch 4 / 20) train acc: 0.660000; val_acc: 0.110000\n(Epoch 5 / 20) train acc: 0.700000; val_acc: 0.125000\n(Iteration 11 / 40) loss: 2.196473\n"
          ]
        },
        {
          "name": "stdout",
          "output_type": "stream",
          "text": [
            "(Epoch 6 / 20) train acc: 0.820000; val_acc: 0.119000\n(Epoch 7 / 20) train acc: 0.920000; val_acc: 0.121000\n(Epoch 8 / 20) train acc: 0.920000; val_acc: 0.122000\n"
          ]
        },
        {
          "name": "stdout",
          "output_type": "stream",
          "text": [
            "(Epoch 9 / 20) train acc: 0.940000; val_acc: 0.123000\n(Epoch 10 / 20) train acc: 0.960000; val_acc: 0.127000\n(Iteration 21 / 40) loss: 0.307728\n"
          ]
        },
        {
          "name": "stdout",
          "output_type": "stream",
          "text": [
            "(Epoch 11 / 20) train acc: 0.980000; val_acc: 0.123000\n(Epoch 12 / 20) train acc: 0.980000; val_acc: 0.124000\n(Epoch 13 / 20) train acc: 0.980000; val_acc: 0.124000\n"
          ]
        },
        {
          "name": "stdout",
          "output_type": "stream",
          "text": [
            "(Epoch 14 / 20) train acc: 0.980000; val_acc: 0.124000\n(Epoch 15 / 20) train acc: 0.980000; val_acc: 0.125000\n(Iteration 31 / 40) loss: 0.000731\n(Epoch 16 / 20) train acc: 0.980000; val_acc: 0.121000\n"
          ]
        },
        {
          "name": "stdout",
          "output_type": "stream",
          "text": [
            "(Epoch 17 / 20) train acc: 1.000000; val_acc: 0.125000\n(Epoch 18 / 20) train acc: 1.000000; val_acc: 0.125000\n(Epoch 19 / 20) train acc: 1.000000; val_acc: 0.125000\n"
          ]
        },
        {
          "name": "stdout",
          "output_type": "stream",
          "text": [
            "(Epoch 20 / 20) train acc: 1.000000; val_acc: 0.125000\n"
          ]
        },
        {
          "data": {
            "image/png": "[encoded data removed]",
            "text/plain": [
              "\u003cFigure size 720x576 with 1 Axes\u003e"
            ]
          },
          "metadata": {},
          "output_type": "display_data"
        }
      ],
      "source": [
        "# TODO: Use a five-layer Net to overfit 50 training examples.\n",
        "\n",
        "num_train \u003d 50\n",
        "small_data \u003d {\n",
        "  \u0027X_train\u0027: data[\u0027X_train\u0027][:num_train],\n",
        "  \u0027y_train\u0027: data[\u0027y_train\u0027][:num_train],\n",
        "  \u0027X_val\u0027: data[\u0027X_val\u0027],\n",
        "  \u0027y_val\u0027: data[\u0027y_val\u0027],\n",
        "}\n",
        "\n",
        "weight_scale \u003d 1e-1     # 1e-5\n",
        "learning_rate \u003d 1e-3    # 1e-3\n",
        "\n",
        "model \u003d FullyConnectedNet([100, 100, 100, 100],\n",
        "                weight_scale\u003dweight_scale, dtype\u003dnp.float64)\n",
        "solver \u003d Solver(model, small_data,\n",
        "                print_every\u003d10, num_epochs\u003d20, batch_size\u003d25,\n",
        "                update_rule\u003d\u0027sgd\u0027,\n",
        "                optim_config\u003d{\n",
        "                  \u0027learning_rate\u0027: learning_rate,\n",
        "                }\n",
        "         )\n",
        "solver.train()\n",
        "\n",
        "plt.plot(solver.loss_history, \u0027o\u0027)\n",
        "plt.title(\u0027Training loss history\u0027)\n",
        "plt.xlabel(\u0027Iteration\u0027)\n",
        "plt.ylabel(\u0027Training loss\u0027)\n",
        "plt.show()"
      ]
    },
    {
      "cell_type": "markdown",
      "metadata": {
        "editable": true,
        "deletable": true,
        "pycharm": {}
      },
      "source": [
        "# Inline question: \n",
        "Did you notice anything about the comparative difficulty of training the three-layer net vs training the five layer net?\n",
        "\n",
        "# Answer:\n",
        "망이 깊을수록 Learning Rate나 Weight Scale에 민감하게 반응한다.\n"
      ]
    },
    {
      "cell_type": "markdown",
      "metadata": {
        "editable": true,
        "deletable": true,
        "pycharm": {}
      },
      "source": [
        "# Update rules\n",
        "So far we have used vanilla stochastic gradient descent (SGD) as our update rule. More sophisticated update rules can make it easier to train deep networks. We will implement a few of the most commonly used update rules and compare them to vanilla SGD."
      ]
    },
    {
      "cell_type": "markdown",
      "metadata": {
        "editable": true,
        "deletable": true,
        "pycharm": {}
      },
      "source": [
        "# SGD+Momentum\n",
        "Stochastic gradient descent with momentum is a widely used update rule that tends to make deep networks converge faster than vanilla stochstic gradient descent.\n",
        "\n",
        "Open the file `cs231n/optim.py` and read the documentation at the top of the file to make sure you understand the API. Implement the SGD+momentum update rule in the function `sgd_momentum` and run the following to check your implementation. You should see errors less than 1e-8."
      ]
    },
    {
      "cell_type": "code",
      "execution_count": 40,
      "metadata": {
        "collapsed": false,
        "editable": true,
        "deletable": true,
        "pycharm": {}
      },
      "outputs": [
        {
          "name": "stdout",
          "output_type": "stream",
          "text": [
            "next_w error:  8.882347033505819e-09\nvelocity error:  4.269287743278663e-09\n"
          ]
        }
      ],
      "source": [
        "from cs231n.optim import sgd_momentum\n",
        "\n",
        "N, D \u003d 4, 5\n",
        "w \u003d np.linspace(-0.4, 0.6, num\u003dN*D).reshape(N, D)\n",
        "dw \u003d np.linspace(-0.6, 0.4, num\u003dN*D).reshape(N, D)\n",
        "v \u003d np.linspace(0.6, 0.9, num\u003dN*D).reshape(N, D)\n",
        "\n",
        "config \u003d {\u0027learning_rate\u0027: 1e-3, \u0027velocity\u0027: v}\n",
        "next_w, _ \u003d sgd_momentum(w, dw, config\u003dconfig)\n",
        "\n",
        "expected_next_w \u003d np.asarray([\n",
        "  [ 0.1406,      0.20738947,  0.27417895,  0.34096842,  0.40775789],\n",
        "  [ 0.47454737,  0.54133684,  0.60812632,  0.67491579,  0.74170526],\n",
        "  [ 0.80849474,  0.87528421,  0.94207368,  1.00886316,  1.07565263],\n",
        "  [ 1.14244211,  1.20923158,  1.27602105,  1.34281053,  1.4096    ]])\n",
        "expected_velocity \u003d np.asarray([\n",
        "  [ 0.5406,      0.55475789,  0.56891579, 0.58307368,  0.59723158],\n",
        "  [ 0.61138947,  0.62554737,  0.63970526,  0.65386316,  0.66802105],\n",
        "  [ 0.68217895,  0.69633684,  0.71049474,  0.72465263,  0.73881053],\n",
        "  [ 0.75296842,  0.76712632,  0.78128421,  0.79544211,  0.8096    ]])\n",
        "\n",
        "print(\u0027next_w error: \u0027, rel_error(next_w, expected_next_w))\n",
        "print(\u0027velocity error: \u0027, rel_error(expected_velocity, config[\u0027velocity\u0027]))"
      ]
    },
    {
      "cell_type": "markdown",
      "metadata": {
        "editable": true,
        "deletable": true,
        "pycharm": {}
      },
      "source": [
        "Once you have done so, run the following to train a six-layer network with both SGD and SGD+momentum. You should see the SGD+momentum update rule converge faster."
      ]
    },
    {
      "cell_type": "code",
      "execution_count": 43,
      "metadata": {
        "scrolled": false,
        "collapsed": false,
        "editable": true,
        "deletable": true,
        "pycharm": {}
      },
      "outputs": [
        {
          "name": "stdout",
          "output_type": "stream",
          "text": [
            "running with  sgd\n(Iteration 1 / 200) loss: 2.547861\n(Epoch 0 / 5) train acc: 0.097000; val_acc: 0.104000\n"
          ]
        },
        {
          "name": "stdout",
          "output_type": "stream",
          "text": [
            "(Iteration 11 / 200) loss: 2.304586\n(Iteration 21 / 200) loss: 2.246529\n"
          ]
        },
        {
          "name": "stdout",
          "output_type": "stream",
          "text": [
            "(Iteration 31 / 200) loss: 2.193887\n"
          ]
        },
        {
          "name": "stdout",
          "output_type": "stream",
          "text": [
            "(Epoch 1 / 5) train acc: 0.221000; val_acc: 0.203000\n(Iteration 41 / 200) loss: 2.166887\n(Iteration 51 / 200) loss: 1.992628\n"
          ]
        },
        {
          "name": "stdout",
          "output_type": "stream",
          "text": [
            "(Iteration 61 / 200) loss: 2.079847\n(Iteration 71 / 200) loss: 2.053882\n"
          ]
        },
        {
          "name": "stdout",
          "output_type": "stream",
          "text": [
            "(Epoch 2 / 5) train acc: 0.284000; val_acc: 0.237000\n(Iteration 81 / 200) loss: 1.896166\n(Iteration 91 / 200) loss: 1.722143\n"
          ]
        },
        {
          "name": "stdout",
          "output_type": "stream",
          "text": [
            "(Iteration 101 / 200) loss: 2.168917\n(Iteration 111 / 200) loss: 1.925900\n"
          ]
        },
        {
          "name": "stdout",
          "output_type": "stream",
          "text": [
            "(Epoch 3 / 5) train acc: 0.358000; val_acc: 0.267000\n(Iteration 121 / 200) loss: 1.852370\n(Iteration 131 / 200) loss: 1.833437\n"
          ]
        },
        {
          "name": "stdout",
          "output_type": "stream",
          "text": [
            "(Iteration 141 / 200) loss: 1.913425\n(Iteration 151 / 200) loss: 1.869806\n"
          ]
        },
        {
          "name": "stdout",
          "output_type": "stream",
          "text": [
            "(Epoch 4 / 5) train acc: 0.348000; val_acc: 0.282000\n(Iteration 161 / 200) loss: 1.813258\n(Iteration 171 / 200) loss: 1.847996\n"
          ]
        },
        {
          "name": "stdout",
          "output_type": "stream",
          "text": [
            "(Iteration 181 / 200) loss: 1.801078\n(Iteration 191 / 200) loss: 1.836532\n"
          ]
        },
        {
          "name": "stdout",
          "output_type": "stream",
          "text": [
            "(Epoch 5 / 5) train acc: 0.409000; val_acc: 0.302000\n\nrunning with  sgd_momentum\n(Iteration 1 / 200) loss: 2.699389\n(Epoch 0 / 5) train acc: 0.103000; val_acc: 0.091000\n"
          ]
        },
        {
          "name": "stdout",
          "output_type": "stream",
          "text": [
            "(Iteration 11 / 200) loss: 2.323497\n(Iteration 21 / 200) loss: 2.008254\n"
          ]
        },
        {
          "name": "stdout",
          "output_type": "stream",
          "text": [
            "(Iteration 31 / 200) loss: 1.980050\n"
          ]
        },
        {
          "name": "stdout",
          "output_type": "stream",
          "text": [
            "(Epoch 1 / 5) train acc: 0.308000; val_acc: 0.274000\n(Iteration 41 / 200) loss: 1.909373\n"
          ]
        },
        {
          "name": "stdout",
          "output_type": "stream",
          "text": [
            "(Iteration 51 / 200) loss: 2.034425\n(Iteration 61 / 200) loss: 1.746823\n"
          ]
        },
        {
          "name": "stdout",
          "output_type": "stream",
          "text": [
            "(Iteration 71 / 200) loss: 1.941441\n"
          ]
        },
        {
          "name": "stdout",
          "output_type": "stream",
          "text": [
            "(Epoch 2 / 5) train acc: 0.372000; val_acc: 0.288000\n(Iteration 81 / 200) loss: 1.658588\n"
          ]
        },
        {
          "name": "stdout",
          "output_type": "stream",
          "text": [
            "(Iteration 91 / 200) loss: 1.742458\n(Iteration 101 / 200) loss: 1.821770\n"
          ]
        },
        {
          "name": "stdout",
          "output_type": "stream",
          "text": [
            "(Iteration 111 / 200) loss: 1.804223\n"
          ]
        },
        {
          "name": "stdout",
          "output_type": "stream",
          "text": [
            "(Epoch 3 / 5) train acc: 0.401000; val_acc: 0.314000\n(Iteration 121 / 200) loss: 1.559060\n(Iteration 131 / 200) loss: 1.563063\n"
          ]
        },
        {
          "name": "stdout",
          "output_type": "stream",
          "text": [
            "(Iteration 141 / 200) loss: 1.623264\n(Iteration 151 / 200) loss: 1.523022\n"
          ]
        },
        {
          "name": "stdout",
          "output_type": "stream",
          "text": [
            "(Epoch 4 / 5) train acc: 0.489000; val_acc: 0.360000\n(Iteration 161 / 200) loss: 1.439484\n(Iteration 171 / 200) loss: 1.338591\n"
          ]
        },
        {
          "name": "stdout",
          "output_type": "stream",
          "text": [
            "(Iteration 181 / 200) loss: 1.505983\n(Iteration 191 / 200) loss: 1.097097\n"
          ]
        },
        {
          "name": "stdout",
          "output_type": "stream",
          "text": [
            "(Epoch 5 / 5) train acc: 0.544000; val_acc: 0.357000\n\n"
          ]
        },
        {
          "name": "stderr",
          "output_type": "stream",
          "text": [
            "C:\\Program Files (x86)\\Microsoft Visual Studio\\Shared\\Python36_64\\lib\\site-packages\\matplotlib\\cbook\\deprecation.py:107: MatplotlibDeprecationWarning: Adding an axes using the same arguments as a previous axes currently reuses the earlier instance.  In a future version, a new instance will always be created and returned.  Meanwhile, this warning can be suppressed, and the future behavior ensured, by passing a unique label to each axes instance.\n  warnings.warn(message, mplDeprecation, stacklevel\u003d1)\n"
          ]
        },
        {
          "data": {
            "image/png": "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\u003d\u003d\n",
            "text/plain": [
              "\u003cFigure size 1080x1080 with 3 Axes\u003e"
            ]
          },
          "metadata": {},
          "output_type": "display_data"
        }
      ],
      "source": [
        "num_train \u003d 4000\n",
        "small_data \u003d {\n",
        "  \u0027X_train\u0027: data[\u0027X_train\u0027][:num_train],\n",
        "  \u0027y_train\u0027: data[\u0027y_train\u0027][:num_train],\n",
        "  \u0027X_val\u0027: data[\u0027X_val\u0027],\n",
        "  \u0027y_val\u0027: data[\u0027y_val\u0027],\n",
        "}\n",
        "\n",
        "solvers \u003d {}\n",
        "\n",
        "for update_rule in [\u0027sgd\u0027, \u0027sgd_momentum\u0027]:\n",
        "  print(\u0027running with \u0027, update_rule)\n",
        "  model \u003d FullyConnectedNet([100, 100, 100, 100, 100], weight_scale\u003d5e-2)\n",
        "\n",
        "  solver \u003d Solver(model, small_data,\n",
        "                  num_epochs\u003d5, batch_size\u003d100,\n",
        "                  update_rule\u003dupdate_rule,\n",
        "                  optim_config\u003d{\n",
        "                    \u0027learning_rate\u0027: 5e-3,  # 1e-2 \n",
        "                  },\n",
        "                  verbose\u003dTrue)\n",
        "  solvers[update_rule] \u003d solver\n",
        "  solver.train()\n",
        "  print()\n",
        "\n",
        "plt.subplot(3, 1, 1)\n",
        "plt.title(\u0027Training loss\u0027)\n",
        "plt.xlabel(\u0027Iteration\u0027)\n",
        "\n",
        "plt.subplot(3, 1, 2)\n",
        "plt.title(\u0027Training accuracy\u0027)\n",
        "plt.xlabel(\u0027Epoch\u0027)\n",
        "\n",
        "plt.subplot(3, 1, 3)\n",
        "plt.title(\u0027Validation accuracy\u0027)\n",
        "plt.xlabel(\u0027Epoch\u0027)\n",
        "\n",
        "for update_rule, solver in list(solvers.items()):\n",
        "  plt.subplot(3, 1, 1)\n",
        "  plt.plot(solver.loss_history, \u0027o\u0027, label\u003dupdate_rule)\n",
        "  \n",
        "  plt.subplot(3, 1, 2)\n",
        "  plt.plot(solver.train_acc_history, \u0027-o\u0027, label\u003dupdate_rule)\n",
        "\n",
        "  plt.subplot(3, 1, 3)\n",
        "  plt.plot(solver.val_acc_history, \u0027-o\u0027, label\u003dupdate_rule)\n",
        "  \n",
        "for i in [1, 2, 3]:\n",
        "  plt.subplot(3, 1, i)\n",
        "  plt.legend(loc\u003d\u0027upper center\u0027, ncol\u003d4)\n",
        "plt.gcf().set_size_inches(15, 15)\n",
        "plt.show()"
      ]
    },
    {
      "cell_type": "markdown",
      "metadata": {
        "editable": true,
        "deletable": true,
        "pycharm": {}
      },
      "source": [
        "# RMSProp and Adam\n",
        "RMSProp [1] and Adam [2] are update rules that set per-parameter learning rates by using a running average of the second moments of gradients.\n",
        "\n",
        "In the file `cs231n/optim.py`, implement the RMSProp update rule in the `rmsprop` function and implement the Adam update rule in the `adam` function, and check your implementations using the tests below.\n",
        "\n",
        "[1] Tijmen Tieleman and Geoffrey Hinton. \"Lecture 6.5-rmsprop: Divide the gradient by a running average of its recent magnitude.\" COURSERA: Neural Networks for Machine Learning 4 (2012).\n",
        "\n",
        "[2] Diederik Kingma and Jimmy Ba, \"Adam: A Method for Stochastic Optimization\", ICLR 2015."
      ]
    },
    {
      "cell_type": "code",
      "execution_count": 44,
      "metadata": {
        "collapsed": false,
        "editable": true,
        "deletable": true,
        "pycharm": {}
      },
      "outputs": [
        {
          "name": "stdout",
          "output_type": "stream",
          "text": [
            "next_w error:  9.524687511038133e-08\ncache error:  2.6477955807156126e-09\n"
          ]
        }
      ],
      "source": [
        "# Test RMSProp implementation; you should see errors less than 1e-7\n",
        "from cs231n.optim import rmsprop\n",
        "\n",
        "N, D \u003d 4, 5\n",
        "w \u003d np.linspace(-0.4, 0.6, num\u003dN*D).reshape(N, D)\n",
        "dw \u003d np.linspace(-0.6, 0.4, num\u003dN*D).reshape(N, D)\n",
        "cache \u003d np.linspace(0.6, 0.9, num\u003dN*D).reshape(N, D)\n",
        "\n",
        "config \u003d {\u0027learning_rate\u0027: 1e-2, \u0027cache\u0027: cache}\n",
        "next_w, _ \u003d rmsprop(w, dw, config\u003dconfig)\n",
        "\n",
        "expected_next_w \u003d np.asarray([\n",
        "  [-0.39223849, -0.34037513, -0.28849239, -0.23659121, -0.18467247],\n",
        "  [-0.132737,   -0.08078555, -0.02881884,  0.02316247,  0.07515774],\n",
        "  [ 0.12716641,  0.17918792,  0.23122175,  0.28326742,  0.33532447],\n",
        "  [ 0.38739248,  0.43947102,  0.49155973,  0.54365823,  0.59576619]])\n",
        "expected_cache \u003d np.asarray([\n",
        "  [ 0.5976,      0.6126277,   0.6277108,   0.64284931,  0.65804321],\n",
        "  [ 0.67329252,  0.68859723,  0.70395734,  0.71937285,  0.73484377],\n",
        "  [ 0.75037008,  0.7659518,   0.78158892,  0.79728144,  0.81302936],\n",
        "  [ 0.82883269,  0.84469141,  0.86060554,  0.87657507,  0.8926    ]])\n",
        "\n",
        "print(\u0027next_w error: \u0027, rel_error(expected_next_w, next_w))\n",
        "print(\u0027cache error: \u0027, rel_error(expected_cache, config[\u0027cache\u0027]))"
      ]
    },
    {
      "cell_type": "code",
      "execution_count": 46,
      "metadata": {
        "collapsed": false,
        "editable": true,
        "deletable": true,
        "pycharm": {}
      },
      "outputs": [
        {
          "name": "stdout",
          "output_type": "stream",
          "text": [
            "next_w error:  1.1395691798535431e-07\nv error:  4.208314038113071e-09\nm error:  4.214963193114416e-09\n"
          ]
        }
      ],
      "source": [
        "# Test Adam implementation; you should see errors around 1e-7 or less\n",
        "from cs231n.optim import adam\n",
        "\n",
        "N, D \u003d 4, 5\n",
        "w \u003d np.linspace(-0.4, 0.6, num\u003dN*D).reshape(N, D)\n",
        "dw \u003d np.linspace(-0.6, 0.4, num\u003dN*D).reshape(N, D)\n",
        "m \u003d np.linspace(0.6, 0.9, num\u003dN*D).reshape(N, D)\n",
        "v \u003d np.linspace(0.7, 0.5, num\u003dN*D).reshape(N, D)\n",
        "\n",
        "config \u003d {\u0027learning_rate\u0027: 1e-2, \u0027m\u0027: m, \u0027v\u0027: v, \u0027t\u0027: 5}\n",
        "next_w, _ \u003d adam(w, dw, config\u003dconfig)\n",
        "\n",
        "expected_next_w \u003d np.asarray([\n",
        "  [-0.40094747, -0.34836187, -0.29577703, -0.24319299, -0.19060977],\n",
        "  [-0.1380274,  -0.08544591, -0.03286534,  0.01971428,  0.0722929],\n",
        "  [ 0.1248705,   0.17744702,  0.23002243,  0.28259667,  0.33516969],\n",
        "  [ 0.38774145,  0.44031188,  0.49288093,  0.54544852,  0.59801459]])\n",
        "expected_v \u003d np.asarray([\n",
        "  [ 0.69966,     0.68908382,  0.67851319,  0.66794809,  0.65738853,],\n",
        "  [ 0.64683452,  0.63628604,  0.6257431,   0.61520571,  0.60467385,],\n",
        "  [ 0.59414753,  0.58362676,  0.57311152,  0.56260183,  0.55209767,],\n",
        "  [ 0.54159906,  0.53110598,  0.52061845,  0.51013645,  0.49966,   ]])\n",
        "expected_m \u003d np.asarray([\n",
        "  [ 0.48,        0.49947368,  0.51894737,  0.53842105,  0.55789474],\n",
        "  [ 0.57736842,  0.59684211,  0.61631579,  0.63578947,  0.65526316],\n",
        "  [ 0.67473684,  0.69421053,  0.71368421,  0.73315789,  0.75263158],\n",
        "  [ 0.77210526,  0.79157895,  0.81105263,  0.83052632,  0.85      ]])\n",
        "\n",
        "print(\u0027next_w error: \u0027, rel_error(expected_next_w, next_w))\n",
        "print(\u0027v error: \u0027, rel_error(expected_v, config[\u0027v\u0027]))\n",
        "print(\u0027m error: \u0027, rel_error(expected_m, config[\u0027m\u0027]))"
      ]
    },
    {
      "cell_type": "markdown",
      "metadata": {
        "editable": true,
        "deletable": true,
        "pycharm": {}
      },
      "source": [
        "Once you have debugged your RMSProp and Adam implementations, run the following to train a pair of deep networks using these new update rules:"
      ]
    },
    {
      "cell_type": "code",
      "execution_count": 47,
      "metadata": {
        "collapsed": false,
        "editable": true,
        "deletable": true,
        "pycharm": {}
      },
      "outputs": [
        {
          "name": "stdout",
          "output_type": "stream",
          "text": [
            "running with  adam\n(Iteration 1 / 200) loss: 2.726576\n(Epoch 0 / 5) train acc: 0.131000; val_acc: 0.126000\n"
          ]
        },
        {
          "name": "stdout",
          "output_type": "stream",
          "text": [
            "(Iteration 11 / 200) loss: 2.176844\n"
          ]
        },
        {
          "name": "stdout",
          "output_type": "stream",
          "text": [
            "(Iteration 21 / 200) loss: 1.875366\n"
          ]
        },
        {
          "name": "stdout",
          "output_type": "stream",
          "text": [
            "(Iteration 31 / 200) loss: 2.025756\n"
          ]
        },
        {
          "name": "stdout",
          "output_type": "stream",
          "text": [
            "(Epoch 1 / 5) train acc: 0.345000; val_acc: 0.283000\n(Iteration 41 / 200) loss: 1.777888\n"
          ]
        },
        {
          "name": "stdout",
          "output_type": "stream",
          "text": [
            "(Iteration 51 / 200) loss: 1.774735\n"
          ]
        },
        {
          "name": "stdout",
          "output_type": "stream",
          "text": [
            "(Iteration 61 / 200) loss: 1.586454\n"
          ]
        },
        {
          "name": "stdout",
          "output_type": "stream",
          "text": [
            "(Iteration 71 / 200) loss: 1.618772\n"
          ]
        },
        {
          "name": "stdout",
          "output_type": "stream",
          "text": [
            "(Epoch 2 / 5) train acc: 0.442000; val_acc: 0.352000\n(Iteration 81 / 200) loss: 1.611001\n"
          ]
        },
        {
          "name": "stdout",
          "output_type": "stream",
          "text": [
            "(Iteration 91 / 200) loss: 1.470317\n"
          ]
        },
        {
          "name": "stdout",
          "output_type": "stream",
          "text": [
            "(Iteration 101 / 200) loss: 1.424041\n"
          ]
        },
        {
          "name": "stdout",
          "output_type": "stream",
          "text": [
            "(Iteration 111 / 200) loss: 1.338192\n"
          ]
        },
        {
          "name": "stdout",
          "output_type": "stream",
          "text": [
            "(Epoch 3 / 5) train acc: 0.487000; val_acc: 0.349000\n(Iteration 121 / 200) loss: 1.226052\n"
          ]
        },
        {
          "name": "stdout",
          "output_type": "stream",
          "text": [
            "(Iteration 131 / 200) loss: 1.386984\n"
          ]
        },
        {
          "name": "stdout",
          "output_type": "stream",
          "text": [
            "(Iteration 141 / 200) loss: 1.700127\n"
          ]
        },
        {
          "name": "stdout",
          "output_type": "stream",
          "text": [
            "(Iteration 151 / 200) loss: 1.334367\n"
          ]
        },
        {
          "name": "stdout",
          "output_type": "stream",
          "text": [
            "(Epoch 4 / 5) train acc: 0.523000; val_acc: 0.349000\n(Iteration 161 / 200) loss: 1.294120\n"
          ]
        },
        {
          "name": "stdout",
          "output_type": "stream",
          "text": [
            "(Iteration 171 / 200) loss: 1.356737\n"
          ]
        },
        {
          "name": "stdout",
          "output_type": "stream",
          "text": [
            "(Iteration 181 / 200) loss: 1.414485\n"
          ]
        },
        {
          "name": "stdout",
          "output_type": "stream",
          "text": [
            "(Iteration 191 / 200) loss: 1.376650\n"
          ]
        },
        {
          "name": "stdout",
          "output_type": "stream",
          "text": [
            "(Epoch 5 / 5) train acc: 0.568000; val_acc: 0.366000\n\nrunning with  rmsprop\n(Iteration 1 / 200) loss: 2.676857\n(Epoch 0 / 5) train acc: 0.133000; val_acc: 0.144000\n"
          ]
        },
        {
          "name": "stdout",
          "output_type": "stream",
          "text": [
            "(Iteration 11 / 200) loss: 2.084875\n"
          ]
        },
        {
          "name": "stdout",
          "output_type": "stream",
          "text": [
            "(Iteration 21 / 200) loss: 1.980878\n"
          ]
        },
        {
          "name": "stdout",
          "output_type": "stream",
          "text": [
            "(Iteration 31 / 200) loss: 1.887683\n"
          ]
        },
        {
          "name": "stdout",
          "output_type": "stream",
          "text": [
            "(Epoch 1 / 5) train acc: 0.386000; val_acc: 0.325000\n(Iteration 41 / 200) loss: 1.723570\n"
          ]
        },
        {
          "name": "stdout",
          "output_type": "stream",
          "text": [
            "(Iteration 51 / 200) loss: 1.744271\n"
          ]
        },
        {
          "name": "stdout",
          "output_type": "stream",
          "text": [
            "(Iteration 61 / 200) loss: 1.683741\n(Iteration 71 / 200) loss: 1.875779\n"
          ]
        },
        {
          "name": "stdout",
          "output_type": "stream",
          "text": [
            "(Epoch 2 / 5) train acc: 0.458000; val_acc: 0.325000\n(Iteration 81 / 200) loss: 1.543320\n(Iteration 91 / 200) loss: 1.462174\n"
          ]
        },
        {
          "name": "stdout",
          "output_type": "stream",
          "text": [
            "(Iteration 101 / 200) loss: 1.592257\n(Iteration 111 / 200) loss: 1.549160\n"
          ]
        },
        {
          "name": "stdout",
          "output_type": "stream",
          "text": [
            "(Epoch 3 / 5) train acc: 0.499000; val_acc: 0.345000\n(Iteration 121 / 200) loss: 1.397234\n"
          ]
        },
        {
          "name": "stdout",
          "output_type": "stream",
          "text": [
            "(Iteration 131 / 200) loss: 1.356433\n(Iteration 141 / 200) loss: 1.404236\n"
          ]
        },
        {
          "name": "stdout",
          "output_type": "stream",
          "text": [
            "(Iteration 151 / 200) loss: 1.523289\n"
          ]
        },
        {
          "name": "stdout",
          "output_type": "stream",
          "text": [
            "(Epoch 4 / 5) train acc: 0.509000; val_acc: 0.346000\n(Iteration 161 / 200) loss: 1.563224\n(Iteration 171 / 200) loss: 1.366582\n"
          ]
        },
        {
          "name": "stdout",
          "output_type": "stream",
          "text": [
            "(Iteration 181 / 200) loss: 1.656090\n(Iteration 191 / 200) loss: 1.582261\n"
          ]
        },
        {
          "name": "stdout",
          "output_type": "stream",
          "text": [
            "(Epoch 5 / 5) train acc: 0.538000; val_acc: 0.358000\n\n"
          ]
        },
        {
          "name": "stderr",
          "output_type": "stream",
          "text": [
            "C:\\Program Files (x86)\\Microsoft Visual Studio\\Shared\\Python36_64\\lib\\site-packages\\matplotlib\\cbook\\deprecation.py:107: MatplotlibDeprecationWarning: Adding an axes using the same arguments as a previous axes currently reuses the earlier instance.  In a future version, a new instance will always be created and returned.  Meanwhile, this warning can be suppressed, and the future behavior ensured, by passing a unique label to each axes instance.\n  warnings.warn(message, mplDeprecation, stacklevel\u003d1)\n"
          ]
        },
        {
          "data": {
            "image/png": "[encoded data removed]",
            "text/plain": [
              "\u003cFigure size 1080x1080 with 3 Axes\u003e"
            ]
          },
          "metadata": {},
          "output_type": "display_data"
        }
      ],
      "source": [
        "learning_rates \u003d {\u0027rmsprop\u0027: 1e-4, \u0027adam\u0027: 1e-3}\n",
        "for update_rule in [\u0027adam\u0027, \u0027rmsprop\u0027]:\n",
        "  print(\u0027running with \u0027, update_rule)\n",
        "  model \u003d FullyConnectedNet([100, 100, 100, 100, 100], weight_scale\u003d5e-2)\n",
        "\n",
        "  solver \u003d Solver(model, small_data,\n",
        "                  num_epochs\u003d5, batch_size\u003d100,\n",
        "                  update_rule\u003dupdate_rule,\n",
        "                  optim_config\u003d{\n",
        "                    \u0027learning_rate\u0027: learning_rates[update_rule]\n",
        "                  },\n",
        "                  verbose\u003dTrue)\n",
        "  solvers[update_rule] \u003d solver\n",
        "  solver.train()\n",
        "  print()\n",
        "\n",
        "plt.subplot(3, 1, 1)\n",
        "plt.title(\u0027Training loss\u0027)\n",
        "plt.xlabel(\u0027Iteration\u0027)\n",
        "\n",
        "plt.subplot(3, 1, 2)\n",
        "plt.title(\u0027Training accuracy\u0027)\n",
        "plt.xlabel(\u0027Epoch\u0027)\n",
        "\n",
        "plt.subplot(3, 1, 3)\n",
        "plt.title(\u0027Validation accuracy\u0027)\n",
        "plt.xlabel(\u0027Epoch\u0027)\n",
        "\n",
        "for update_rule, solver in list(solvers.items()):\n",
        "  plt.subplot(3, 1, 1)\n",
        "  plt.plot(solver.loss_history, \u0027o\u0027, label\u003dupdate_rule)\n",
        "  \n",
        "  plt.subplot(3, 1, 2)\n",
        "  plt.plot(solver.train_acc_history, \u0027-o\u0027, label\u003dupdate_rule)\n",
        "\n",
        "  plt.subplot(3, 1, 3)\n",
        "  plt.plot(solver.val_acc_history, \u0027-o\u0027, label\u003dupdate_rule)\n",
        "  \n",
        "for i in [1, 2, 3]:\n",
        "  plt.subplot(3, 1, i)\n",
        "  plt.legend(loc\u003d\u0027upper center\u0027, ncol\u003d4)\n",
        "plt.gcf().set_size_inches(15, 15)\n",
        "plt.show()"
      ]
    },
    {
      "cell_type": "markdown",
      "metadata": {
        "editable": true,
        "deletable": true,
        "pycharm": {}
      },
      "source": [
        "# Train a good model!\n",
        "Train the best fully-connected model that you can on CIFAR-10, storing your best model in the `best_model` variable. We require you to get at least 50% accuracy on the validation set using a fully-connected net.\n",
        "\n",
        "If you are careful it should be possible to get accuracies above 55%, but we don\u0027t require it for this part and won\u0027t assign extra credit for doing so. Later in the assignment we will ask you to train the best convolutional network that you can on CIFAR-10, and we would prefer that you spend your effort working on convolutional nets rather than fully-connected nets.\n",
        "\n",
        "You might find it useful to complete the `BatchNormalization.ipynb` and `Dropout.ipynb` notebooks before completing this part, since those techniques can help you train powerful models."
      ]
    },
    {
      "cell_type": "code",
      "execution_count": 60,
      "metadata": {
        "scrolled": false,
        "collapsed": false,
        "editable": true,
        "deletable": true,
        "pycharm": {}
      },
      "outputs": [
        {
          "name": "stdout",
          "output_type": "stream",
          "text": [
            "(Iteration 1 / 4900) loss: 2.302521\n(Epoch 0 / 10) train acc: 0.138000; val_acc: 0.127000\n"
          ]
        },
        {
          "name": "stdout",
          "output_type": "stream",
          "text": [
            "(Epoch 1 / 10) train acc: 0.463000; val_acc: 0.445000\n"
          ]
        },
        {
          "name": "stdout",
          "output_type": "stream",
          "text": [
            "(Iteration 501 / 4900) loss: 1.559903\n"
          ]
        },
        {
          "name": "stdout",
          "output_type": "stream",
          "text": [
            "(Epoch 2 / 10) train acc: 0.491000; val_acc: 0.451000\n"
          ]
        },
        {
          "name": "stdout",
          "output_type": "stream",
          "text": [
            "(Iteration 1001 / 4900) loss: 1.492575\n"
          ]
        },
        {
          "name": "stdout",
          "output_type": "stream",
          "text": [
            "(Epoch 3 / 10) train acc: 0.539000; val_acc: 0.503000\n"
          ]
        },
        {
          "name": "stdout",
          "output_type": "stream",
          "text": [
            "(Iteration 1501 / 4900) loss: 1.457794\n"
          ]
        },
        {
          "name": "stdout",
          "output_type": "stream",
          "text": [
            "(Epoch 4 / 10) train acc: 0.531000; val_acc: 0.503000\n"
          ]
        },
        {
          "name": "stdout",
          "output_type": "stream",
          "text": [
            "(Iteration 2001 / 4900) loss: 1.439026\n"
          ]
        },
        {
          "name": "stdout",
          "output_type": "stream",
          "text": [
            "(Epoch 5 / 10) train acc: 0.560000; val_acc: 0.517000\n"
          ]
        },
        {
          "name": "stdout",
          "output_type": "stream",
          "text": [
            "(Iteration 2501 / 4900) loss: 1.218477\n"
          ]
        },
        {
          "name": "stdout",
          "output_type": "stream",
          "text": [
            "(Epoch 6 / 10) train acc: 0.558000; val_acc: 0.509000\n"
          ]
        },
        {
          "name": "stdout",
          "output_type": "stream",
          "text": [
            "(Iteration 3001 / 4900) loss: 1.226299\n"
          ]
        },
        {
          "name": "stdout",
          "output_type": "stream",
          "text": [
            "(Epoch 7 / 10) train acc: 0.583000; val_acc: 0.528000\n"
          ]
        },
        {
          "name": "stdout",
          "output_type": "stream",
          "text": [
            "(Iteration 3501 / 4900) loss: 1.060301\n"
          ]
        },
        {
          "name": "stdout",
          "output_type": "stream",
          "text": [
            "(Epoch 8 / 10) train acc: 0.577000; val_acc: 0.493000\n"
          ]
        },
        {
          "name": "stdout",
          "output_type": "stream",
          "text": [
            "(Iteration 4001 / 4900) loss: 1.162905\n"
          ]
        },
        {
          "name": "stdout",
          "output_type": "stream",
          "text": [
            "(Epoch 9 / 10) train acc: 0.595000; val_acc: 0.516000\n"
          ]
        },
        {
          "name": "stdout",
          "output_type": "stream",
          "text": [
            "(Iteration 4501 / 4900) loss: 1.360474\n"
          ]
        },
        {
          "name": "stdout",
          "output_type": "stream",
          "text": [
            "(Epoch 10 / 10) train acc: 0.610000; val_acc: 0.506000\n0.528\n"
          ]
        }
      ],
      "source": [
        "best_model \u003d None\n",
        "################################################################################\n",
        "# TODO: Train the best FullyConnectedNet that you can on CIFAR-10. You might   #\n",
        "# batch normalization and dropout useful. Store your best model in the         #\n",
        "# best_model variable.                                                         #\n",
        "################################################################################\n",
        "# solvers \u003d {}\n",
        "# learning_rates \u003d 1e-4 * np.linspace(1,10, num\u003d4)\n",
        "lr \u003d 8e-5\n",
        "weight_scale \u003d 1e-2\n",
        "model \u003d FullyConnectedNet([100, 100, 100, 100], weight_scale\u003dweight_scale)\n",
        "solver \u003d Solver(model, data,\n",
        "                num_epochs\u003d10, batch_size\u003d100,\n",
        "                update_rule\u003d\u0027adam\u0027,\n",
        "                optim_config\u003d{\n",
        "                    \u0027learning_rate1\u0027: lr,\n",
        "                },\n",
        "                verbose\u003dTrue, print_every\u003d500)\n",
        "solver.train()\n",
        "print(solver.best_val_acc)\n",
        "# solvers[lr] \u003d solver\n",
        "#     \n",
        "# plt.subplot(3, 1, 1)\n",
        "# plt.title(\u0027Training loss\u0027)\n",
        "# plt.xlabel(\u0027Iteration\u0027)\n",
        "# \n",
        "# plt.subplot(3, 1, 2)\n",
        "# plt.title(\u0027Training accuracy\u0027)\n",
        "# plt.xlabel(\u0027Epoch\u0027)\n",
        "# \n",
        "# plt.subplot(3, 1, 3)\n",
        "# plt.title(\u0027Validation accuracy\u0027)\n",
        "# plt.xlabel(\u0027Epoch\u0027)\n",
        "# \n",
        "# for lr, solver in list(solvers.items()):\n",
        "#   plt.subplot(3, 1, 1)\n",
        "#   plt.plot(solver.loss_history, \u0027o\u0027, label\u003dlr.round(2))\n",
        "#   \n",
        "#   plt.subplot(3, 1, 2)\n",
        "#   plt.plot(solver.train_acc_history, \u0027-o\u0027, label\u003dlr.round(2))\n",
        "# \n",
        "#   plt.subplot(3, 1, 3)\n",
        "#   plt.plot(solver.val_acc_history, \u0027-o\u0027, label\u003dlr.round(2))\n",
        "# for i in [1, 2, 3]:\n",
        "#   plt.subplot(3, 1, i)\n",
        "#   plt.legend(loc\u003d\u0027upper center\u0027, ncol\u003d4)\n",
        "# plt.gcf().set_size_inches(15, 15)\n",
        "# plt.show()\n",
        "################################################################################\n",
        "#                              END OF YOUR CODE                                #\n",
        "################################################################################"
      ]
    },
    {
      "cell_type": "code",
      "execution_count": 61,
      "metadata": {
        "collapsed": true,
        "pycharm": {}
      },
      "outputs": [
        {
          "data": {
            "text/plain": [
              "{\u0027W0\u0027: array([[-0.00130348, -0.02949134,  0.00552668, ...,  0.02846399,\n         -0.05719547,  0.03299305],\n        [ 0.03218653, -0.04065543, -0.01842082, ...,  0.02847363,\n         -0.02502241,  0.00452702],\n        [ 0.03318961, -0.00909271, -0.06832292, ...,  0.01836508,\n         -0.01163163, -0.02190392],\n        ...,\n        [-0.02139712,  0.0363052 , -0.01834773, ...,  0.06113757,\n         -0.02772353,  0.05265813],\n        [-0.04824174,  0.04404986,  0.00554794, ...,  0.04508284,\n         -0.04144115,  0.02036178],\n        [-0.05896626,  0.03945309,  0.04524611, ...,  0.08332151,\n         -0.01204453,  0.00355949]], dtype\u003dfloat32),\n \u0027b0\u0027: array([ 0.54275936, -0.73429227,  0.05085607,  0.47701436, -0.08509298,\n        -0.29661703, -0.38635623, -0.13258578,  0.22097203,  0.38773483,\n        -0.17412288, -0.24719259, -0.17144057, -0.06689566, -0.4326321 ,\n         0.04722041, -0.28319004, -0.12300417, -0.35769626, -0.46095404,\n         0.34124506, -0.33057496,  0.33145428, -0.1376184 , -0.63342917,\n        -0.3118796 , -0.42274058, -0.19663477, -0.11811399, -0.67890424,\n         0.01502279, -0.5368609 , -0.04376469, -0.2562303 ,  0.324589  ,\n        -0.20004867,  0.30602205, -0.5172202 ,  0.3881713 , -0.8147549 ,\n        -0.11391646, -0.58470005,  0.41542062, -0.09919092, -0.49282068,\n         0.3128878 , -0.17802182, -0.14702855, -0.11054863, -0.4954692 ,\n         0.33198148, -0.18856156, -0.45506036, -0.3381163 , -0.42966947,\n        -0.07074402, -0.52256   ,  0.08452599,  0.3651766 ,  0.24258003,\n        -0.13114879, -0.07001243, -0.29788086,  0.07711318,  0.06682808,\n        -0.4233092 , -0.4002685 , -0.31932056, -0.1745541 , -0.5490069 ,\n         0.23164278, -0.17975828, -0.22754568,  0.21635891, -0.4379745 ,\n        -0.22094724, -0.28698942,  0.43984407, -0.2088859 , -0.041683  ,\n        -0.21154475, -0.22267404, -0.3710961 , -0.5637646 , -0.15526275,\n         0.5386449 , -0.58249116, -0.12578276,  0.03232668,  0.28163764,\n        -0.7470299 , -0.6339924 ,  0.00884544, -0.15843244,  0.503637  ,\n        -0.37435642, -0.14574617, -0.07107186,  0.33613023, -0.3841716 ],\n       dtype\u003dfloat32),\n \u0027W1\u0027: array([[-0.03510134,  0.1235218 , -0.04027864, ..., -0.16170804,\n         -0.04214223, -0.02960809],\n        [-0.03765963,  0.02274971, -0.10602234, ..., -0.06444877,\n         -0.09880754,  0.0699941 ],\n        [-0.11440373, -0.00434222,  0.01941643, ...,  0.08967598,\n         -0.05709084, -0.09487313],\n        ...,\n        [-0.06158995,  0.03476069, -0.04388333, ..., -0.20566724,\n         -0.04763525, -0.01324665],\n        [ 0.07893813,  0.01055169, -0.104137  , ...,  0.06862467,\n         -0.03458441, -0.06442928],\n        [-0.08112466,  0.13138716, -0.02881527, ..., -0.02589778,\n         -0.03340181, -0.0113856 ]], dtype\u003dfloat32),\n \u0027b1\u0027: array([ 1.46333560e-01, -2.73187190e-01,  1.08638361e-01, -1.78629652e-01,\n        -1.98168024e-01, -1.64134353e-01, -2.84598619e-02, -2.05314368e-01,\n         1.79349601e-01,  4.47248071e-01, -2.04727836e-02, -2.15594247e-02,\n        -5.01260976e-04,  6.03789352e-02,  1.04517736e-01, -5.78630045e-02,\n         7.83308029e-01,  4.38514464e-02, -3.47045749e-01, -2.48298168e-01,\n         4.02017385e-02, -9.15165711e-03,  9.83014852e-02,  2.35066980e-01,\n        -9.07408446e-02, -1.59274600e-02, -2.38147259e-01,  1.20661128e-02,\n         1.80056930e-01, -4.32095498e-01,  2.20211938e-01,  3.55882078e-01,\n        -2.21225381e-01,  4.86934185e-01,  1.17931329e-01,  2.54159361e-01,\n        -2.19373386e-02,  2.00056106e-01,  1.88483462e-01,  3.91362578e-01,\n         5.42221591e-02, -5.56695787e-03, -2.11981043e-01, -6.80805221e-02,\n        -1.58094704e-01, -2.76678754e-03, -1.53665811e-01,  2.94074416e-01,\n        -1.00777438e-02,  1.45820543e-01,  4.01077807e-01,  1.59505308e-01,\n        -7.15410113e-02,  1.16563156e-01,  4.06949490e-01,  3.66166010e-02,\n         2.49682918e-01,  2.63602227e-01,  1.83495969e-01, -8.11637659e-03,\n        -1.91292331e-01,  1.09249972e-01,  7.53720179e-02,  5.11096001e-01,\n        -5.28340833e-03, -2.80495994e-02,  8.38764980e-02,  9.59392115e-02,\n         7.15571791e-02, -1.30719738e-02,  1.07739024e-01, -2.23035328e-02,\n        -9.02316868e-02, -3.63112420e-01, -1.30004063e-01, -1.41128497e-02,\n         1.53105825e-01,  2.35794425e-01,  1.28177330e-01,  1.20778702e-01,\n         6.28791098e-03,  3.68377686e-01,  7.66805589e-01,  4.02563751e-01,\n        -1.23885013e-01,  4.37300742e-01, -7.48489946e-02,  3.62237453e-01,\n        -4.59600836e-01,  3.42221946e-01,  3.77454251e-01, -4.98515088e-03,\n        -1.35072395e-01, -3.14599909e-02,  3.51286680e-01, -3.05064954e-02,\n         1.02987789e-01,  1.22012787e-01, -2.28503365e-02, -3.14483762e-01],\n       dtype\u003dfloat32),\n \u0027W2\u0027: array([[-0.10972068, -0.00938851, -0.04271905, ..., -0.07500234,\n         -0.02689461, -0.00473027],\n        [-0.01082668, -0.04363494,  0.06696375, ...,  0.01108606,\n          0.00276435, -0.03736867],\n        [-0.06406812, -0.00785423, -0.09583062, ..., -0.03185933,\n         -0.01930683, -0.02231073],\n        ...,\n        [ 0.06307181, -0.01136525, -0.03760074, ..., -0.05867365,\n         -0.03120507, -0.00937166],\n        [-0.00340132,  0.01389674, -0.07154467, ..., -0.07266631,\n          0.00143268, -0.00891712],\n        [-0.06165401, -0.03605524, -0.13084012, ...,  0.08305597,\n         -0.00696975, -0.01102408]], dtype\u003dfloat32),\n \u0027b2\u0027: array([ 0.05811056, -0.0197943 ,  0.12932391,  0.16191228, -0.11108498,\n         0.02018794,  0.09771114, -0.19674356, -0.44588092,  0.19670816,\n        -0.05615483,  0.02707766,  0.16527298,  0.0410603 ,  0.07393605,\n         0.46078053, -0.03114592,  0.40535444,  0.2493515 ,  0.00930198,\n         0.12683532,  0.03279823,  0.03015586, -0.04629065,  0.20612732,\n        -0.06792152,  0.07670911,  0.05976753, -0.05182414, -0.09469141,\n        -0.00988058,  0.3374388 , -0.04434494, -0.06948409, -0.1606448 ,\n        -0.15572976,  0.35314548,  0.24200124,  0.30274945, -0.05156827,\n        -0.13100132,  0.23935898,  0.1625068 , -0.26897684,  0.92339903,\n         0.53152674,  0.21750842, -0.10963325, -0.02215401, -0.05545616,\n         0.1725351 ,  0.08474418,  0.15364686,  0.3643109 , -0.16900758,\n         0.04270418, -0.02141566,  0.06168932, -0.01432294,  0.01235791,\n         0.32028955,  0.4272877 ,  0.23251295, -0.0711676 ,  0.4400949 ,\n         0.33319208,  0.2926203 , -0.01588994,  0.15661561,  0.0181806 ,\n         0.34922788, -0.03884201, -0.20562261, -0.02731445,  0.11482336,\n        -0.04324525, -0.00824436,  0.35066524, -0.04721138,  0.780389  ,\n        -0.06890281,  0.2692716 , -0.02656361, -0.04101446, -0.25441596,\n         0.19474639,  0.8683569 , -0.03490934,  0.04189425,  0.07712624,\n        -0.04415112,  0.21018699,  0.7182697 , -0.02718318,  0.3558532 ,\n        -0.0704065 , -0.01644013, -0.2378606 , -0.02000378, -0.0177547 ],\n       dtype\u003dfloat32),\n \u0027W3\u0027: array([[ 0.01470455, -0.04923696,  0.06914591, ...,  0.02997605,\n          0.0384546 , -0.00960075],\n        [-0.02414979, -0.01517258,  0.03164767, ..., -0.0092699 ,\n         -0.003914  ,  0.0142851 ],\n        [ 0.04196632, -0.03628577,  0.04566746, ..., -0.01403139,\n         -0.05649501, -0.00736658],\n        ...,\n        [-0.09515988, -0.0231556 ,  0.01283287, ..., -0.06481273,\n          0.04634527, -0.01743487],\n        [ 0.02365037,  0.00741728, -0.02415132, ...,  0.02212313,\n          0.00513265,  0.02131477],\n        [ 0.02417851, -0.02093655, -0.02433539, ..., -0.02915872,\n          0.01881991, -0.00357436]], dtype\u003dfloat32),\n \u0027b3\u0027: array([ 7.97095522e-02,  7.77869597e-02,  6.41608611e-02, -1.16581805e-02,\n        -3.24069634e-02, -1.33237280e-02, -2.27801949e-02,  8.39206204e-02,\n         6.33127749e-01,  1.95072323e-01, -5.96303381e-02,  7.29729831e-01,\n        -1.19323052e-01,  8.09720695e-01, -1.43759074e-02,  7.17939157e-03,\n         4.86683398e-02, -5.58316261e-02, -3.15959081e-02,  5.95903814e-01,\n         1.07911967e-01, -1.86478570e-02, -1.58252716e-02, -7.43569061e-03,\n         1.35309890e-01,  4.22462150e-02, -2.25491785e-02, -1.88893881e-02,\n        -1.02678761e-02, -6.01158775e-02, -2.20587812e-02,  8.61954272e-01,\n         3.04664671e-01, -9.41570289e-03,  2.82649606e-01,  7.70112127e-02,\n        -4.79222871e-02,  1.22819565e-01,  1.75894454e-01, -1.98367960e-03,\n        -1.13309368e-01, -2.88760781e-01, -2.45526489e-02,  3.59568924e-01,\n         4.44273680e-01,  8.11149895e-01,  1.62942380e-01, -8.26531276e-03,\n         3.86788324e-02,  1.23714894e-01,  1.90008238e-01,  8.28674912e-01,\n         4.78680342e-01, -1.64035577e-02,  2.43910283e-01, -8.32359120e-02,\n        -6.20769188e-02,  1.32413834e-01,  1.82894483e-01, -1.72390100e-02,\n         3.37956101e-02, -1.85241494e-02,  5.26976228e-01,  4.22600806e-02,\n        -2.77908257e-04,  1.09009050e-01,  3.13226789e-01, -2.76200682e-01,\n         2.23903552e-01, -1.82824377e-02,  7.34501719e-01,  4.01066840e-01,\n         8.55074883e-01,  5.45755506e-01,  9.92182970e-01,  6.63969815e-02,\n         2.65996933e-01, -4.61598067e-03, -3.87546606e-02,  2.93511987e-01,\n         3.06912720e-01, -7.71918669e-02, -7.70683680e-03, -4.79539670e-02,\n        -1.87961366e-02, -2.51188427e-02, -1.03235811e-01, -1.77052543e-02,\n         6.46056652e-01,  7.63462037e-02,  5.36290765e-01,  4.99072112e-02,\n        -8.66423175e-03, -8.17333627e-03, -2.07976233e-02,  2.24052534e-01,\n        -1.58170816e-02, -2.26896498e-02,  2.24203706e-01, -3.08521353e-02],\n       dtype\u003dfloat32),\n \u0027W4\u0027: array([[ 1.20603740e-02, -6.57840967e-02,  1.18129747e-02,\n          2.74908673e-02, -7.26888552e-02,  1.20886005e-02,\n          1.16151641e-03, -1.22399172e-02,  2.35646591e-03,\n         -5.74220438e-04],\n        [-4.43864875e-02, -6.88180001e-03, -1.95584334e-02,\n          1.39884856e-02,  1.97716132e-02,  2.41163578e-02,\n         -1.48829557e-02,  5.16149448e-03,  1.49507811e-02,\n         -3.31789698e-03],\n        [ 2.48700497e-03, -1.30770408e-04,  2.77712904e-02,\n         -2.90097445e-02, -1.04562333e-02, -1.36202509e-02,\n          2.81938035e-02, -5.43017350e-02,  9.40831751e-03,\n          3.11422385e-02],\n        [ 3.02634966e-02, -2.66678110e-02, -2.09783483e-02,\n          1.99830215e-02,  7.31423777e-03,  2.31615584e-02,\n         -2.93863891e-03,  4.58906470e-05,  1.47628719e-02,\n          6.43253140e-03],\n        [-2.09394488e-02, -1.58177747e-04, -1.47340251e-02,\n          1.57934297e-02,  1.15991943e-02,  3.19458591e-03,\n         -1.21891657e-02, -9.40658897e-03,  2.24795043e-02,\n          3.03150644e-03],\n        [-5.79331024e-03, -4.16236511e-03,  9.43139102e-03,\n          1.16532631e-02, -2.15747692e-02,  1.65781509e-02,\n         -4.93835984e-03, -1.69719476e-03,  1.49279060e-02,\n          2.97883432e-03],\n        [-5.00404984e-02,  2.89624464e-03,  8.28927662e-03,\n         -5.89145254e-03,  2.07665116e-02,  2.47649010e-03,\n          2.44493767e-05,  2.51235603e-03, -3.59341353e-02,\n         -1.10757183e-02],\n        [ 1.87310278e-02,  1.23573523e-02,  3.82720679e-02,\n         -3.54640670e-02,  1.74827352e-02, -2.85765156e-02,\n         -5.44216596e-02,  3.04556135e-02, -3.06824017e-02,\n          1.62883196e-02],\n        [ 1.02144843e-02, -7.41691981e-03,  2.42022332e-02,\n         -1.61397038e-04, -2.63047963e-02, -1.80917908e-03,\n          5.36781400e-02, -4.89852838e-02, -3.08621079e-02,\n         -2.80263945e-02],\n        [ 2.40262542e-02,  4.13053203e-03,  7.83034228e-03,\n         -7.22247660e-02,  9.72763263e-03, -3.48198861e-02,\n         -7.12195113e-02,  3.80381593e-03,  7.72943255e-03,\n          2.33503021e-02],\n        [-6.12773001e-02, -1.50711718e-03, -1.99648719e-02,\n          1.66652713e-03, -3.01497877e-02, -6.09939843e-02,\n         -1.87413972e-02,  1.79429073e-02,  3.66255059e-03,\n         -1.03063360e-02],\n        [ 1.59037940e-03, -7.82196745e-02,  3.35370973e-02,\n          4.40080417e-03,  2.14129332e-02,  2.07570307e-02,\n          9.24430415e-03, -7.84927309e-02, -1.53319752e-02,\n         -1.19092040e-01],\n        [-4.81185503e-03,  1.98640935e-02,  3.14707831e-02,\n          9.68197640e-03, -5.33330031e-02, -7.68729905e-03,\n         -3.08059454e-02, -1.67574007e-02, -3.20122689e-02,\n          2.00833604e-02],\n        [-2.53192503e-02, -4.10918333e-03,  1.45050194e-02,\n         -9.10459959e-04,  3.98732610e-02, -3.32063921e-02,\n          1.25804180e-02,  9.80376825e-03, -2.24273466e-03,\n         -7.90209174e-02],\n        [ 3.12455953e-03, -1.67047605e-02, -8.28556344e-03,\n          5.95956948e-03, -1.36387516e-02,  1.91661865e-02,\n          1.06901741e-02, -2.05797590e-02, -2.96378252e-03,\n         -7.18279183e-03],\n        [-6.14690781e-03, -9.13132355e-03, -2.42829043e-03,\n         -1.71235297e-02, -4.75785844e-02, -2.55893413e-02,\n         -2.23267004e-02,  4.01832908e-03,  5.57495840e-03,\n          1.23112826e-02],\n        [ 1.02929566e-02,  2.77586170e-02, -2.86618024e-02,\n         -1.56181725e-03, -1.33689018e-02,  1.21053364e-02,\n          1.34920888e-03,  1.12503413e-02, -2.54756156e-02,\n         -2.18777228e-02],\n        [-6.60846126e-04,  3.40681523e-02,  1.72414389e-02,\n         -3.52604724e-02, -4.16431837e-02, -3.03349663e-02,\n         -2.68279877e-03,  4.95595252e-03, -2.63626911e-02,\n          1.00340536e-02],\n        [-1.92846134e-02, -2.35171951e-02, -3.06768529e-02,\n          6.54903706e-03, -2.79260501e-02,  1.18095707e-02,\n         -1.59810344e-03, -2.61495523e-02, -1.07502397e-02,\n         -2.35028956e-02],\n        [-3.95768322e-02, -1.36546075e-01,  2.29341686e-02,\n          4.06624489e-02,  2.47832946e-02,  1.75257120e-02,\n         -3.25849256e-03, -6.40001195e-03, -4.33050357e-02,\n         -8.33314508e-02],\n        [ 1.57160945e-02, -5.61718307e-02, -6.78099738e-03,\n          2.08240505e-02,  3.22703943e-02,  3.94811668e-02,\n          1.43523030e-02, -6.81004673e-02, -7.14173215e-03,\n          2.26270780e-02],\n        [-1.78974532e-02,  1.10154133e-02, -2.29602517e-03,\n          1.51797580e-02, -1.82520524e-02,  2.54425388e-02,\n          1.00003844e-02,  3.82681238e-03,  1.56414937e-02,\n          2.00809333e-02],\n        [-3.17588486e-02, -2.51237508e-02, -4.23787832e-02,\n         -2.43413709e-02,  1.25063956e-02, -3.87643240e-02,\n         -1.67961027e-02, -4.07450981e-02, -5.89926401e-03,\n          6.40033791e-03],\n        [ 1.71425268e-02, -2.05691662e-02, -3.32494937e-02,\n         -2.02232637e-02, -3.63798328e-02, -4.17386740e-03,\n          3.86645528e-03,  2.35862029e-03, -1.44727044e-02,\n         -1.46218427e-02],\n        [ 6.02180175e-02,  3.54025559e-03,  1.08248042e-02,\n          9.89642832e-03, -2.78507806e-02, -3.59216072e-02,\n         -1.74150337e-02, -1.63577553e-02,  1.79808401e-03,\n         -2.75713694e-03],\n        [-2.56261565e-02,  1.36754531e-02, -2.60645174e-05,\n          1.13369422e-02,  6.35144860e-03,  2.20947117e-02,\n          7.75424484e-03, -7.72114610e-03, -3.66102234e-02,\n          6.80322759e-03],\n        [-3.05588637e-02,  1.39381364e-02, -1.87396090e-02,\n         -1.81462876e-02, -8.50187521e-03, -4.56502847e-03,\n         -8.78522359e-03, -6.86537893e-03,  1.29296500e-02,\n          1.70880724e-02],\n        [ 1.00818649e-02, -9.78107005e-03,  2.50731036e-03,\n         -1.38217853e-02,  4.16115448e-02,  4.26353514e-03,\n         -8.01126938e-03,  1.04329046e-02, -1.80358160e-02,\n         -1.90335382e-02],\n        [ 2.28557047e-02,  1.21349487e-02, -2.36435998e-02,\n          1.88448634e-02,  5.28222299e-04, -4.91074380e-03,\n         -1.05017602e-01,  5.50871342e-03,  2.28367001e-02,\n          2.01865230e-02],\n        [-4.67319526e-02, -4.51561473e-02, -2.71407831e-02,\n         -2.58930884e-02, -5.41311651e-02, -7.02482164e-02,\n         -5.48628867e-02,  1.72496364e-02, -4.92710695e-02,\n         -6.33369088e-02],\n        [-1.87083613e-02, -1.31373182e-01, -3.53315212e-02,\n         -4.39535901e-02, -3.47839817e-02, -8.41446873e-03,\n         -2.13295650e-02, -5.12450710e-02, -1.04023926e-01,\n         -3.42371874e-02],\n        [-3.82208750e-02, -5.20888045e-02,  2.80788932e-02,\n         -1.03688566e-02,  5.09182289e-02,  3.16790049e-03,\n         -3.04006543e-02,  2.56485138e-02, -1.55765656e-02,\n         -8.73771533e-02],\n        [ 1.84112955e-02,  1.08965700e-02, -4.32811584e-03,\n         -8.91164169e-02,  3.06358188e-02, -5.10031469e-02,\n         -9.86108854e-02, -1.94735024e-02,  1.84552018e-02,\n          2.32845675e-02],\n        [-3.97838606e-03,  5.82416356e-03,  1.13342581e-02,\n         -1.22265602e-02, -6.93188235e-03, -4.13871882e-03,\n          1.42535521e-03,  8.23259167e-03, -3.02113732e-03,\n          8.23159423e-03],\n        [ 1.19375102e-02,  2.12579686e-03,  2.64587603e-03,\n          2.50768824e-03,  9.80697339e-04, -2.00452190e-02,\n         -5.60705084e-03,  2.14022622e-02,  2.83640600e-03,\n         -4.49767597e-02],\n        [-6.83098137e-02,  3.95945050e-02, -1.03648556e-02,\n         -1.77561236e-03, -7.01023117e-02,  7.81497359e-03,\n          2.58631352e-02, -1.59716625e-02, -3.88774425e-02,\n          3.41729410e-02],\n        [-2.68511940e-02, -2.56465608e-03, -8.77232291e-03,\n         -1.02318814e-02,  1.20657226e-02,  2.36512478e-02,\n         -5.55412378e-03, -2.57846974e-02,  1.62942912e-02,\n         -5.15970634e-03],\n        [ 2.38183644e-02,  1.45859523e-02,  2.12230608e-02,\n         -4.03946405e-03, -4.47008424e-02, -1.79546792e-02,\n         -2.02996656e-02, -6.14423454e-02,  3.22752744e-02,\n          9.54394974e-03],\n        [-3.67007479e-02,  1.32117486e-02, -7.20326137e-03,\n          4.97483974e-03,  8.70396290e-03,  1.23256166e-02,\n         -9.04443022e-03,  3.25861457e-03,  2.64672656e-03,\n         -5.17027564e-02],\n        [-7.37076439e-03,  1.56065421e-02, -7.36085931e-03,\n          1.53867844e-02, -1.35603303e-03, -3.69497435e-03,\n          3.03950068e-03, -1.61749013e-02,  1.55739649e-03,\n          1.01031521e-02],\n        [ 2.13348251e-02,  2.71937600e-03, -4.61358614e-02,\n          1.38478614e-02, -4.99023348e-02,  9.73980222e-03,\n         -5.20368516e-02,  4.40276824e-02,  6.21769810e-03,\n         -2.15001889e-02],\n        [-3.60943340e-02,  2.66329944e-02, -1.72305144e-02,\n          4.39671800e-03, -5.59622422e-02,  1.82305407e-02,\n         -4.41710837e-02,  1.83910236e-03,  1.32000893e-02,\n          2.96996348e-02],\n        [-2.84336954e-02,  6.40196586e-03,  3.08127864e-03,\n         -5.39214630e-03, -2.71038711e-02, -7.44107878e-03,\n         -4.14899252e-02, -2.63091996e-02, -6.99299620e-03,\n         -5.50904917e-03],\n        [ 1.64625030e-02,  4.81886556e-03, -2.73476448e-02,\n          2.60635908e-03,  1.78995691e-02,  1.55045185e-02,\n         -3.47822756e-02, -3.45587023e-02,  1.12133222e-02,\n          5.87160559e-03],\n        [-7.11923540e-02,  1.03664724e-02,  3.29892226e-02,\n          3.00607607e-02, -1.81060474e-04,  1.06637366e-02,\n         -4.25050445e-02,  3.59636964e-03, -4.94734384e-02,\n          2.08666008e-02],\n        [ 4.09055054e-02, -1.38845351e-02,  3.41801904e-02,\n          7.66694546e-03,  2.31477376e-02, -2.44875625e-02,\n          2.53765918e-02, -5.37538826e-02, -2.25976314e-02,\n         -7.76993111e-02],\n        [-1.38620175e-02, -1.80312200e-05, -6.95703086e-03,\n         -3.52020115e-02,  2.04782449e-02, -2.59269644e-02,\n         -3.58610824e-02,  4.10566628e-02, -3.76740023e-02,\n          1.28985308e-02],\n        [-1.29844341e-03, -1.53151143e-03,  3.15319703e-05,\n          2.97575095e-03, -1.14759766e-02,  1.36692598e-02,\n         -6.62329979e-03, -1.17364964e-02,  7.45320925e-03,\n          6.23697368e-03],\n        [ 3.25829200e-02,  1.66362263e-02,  2.34712544e-03,\n          2.08629072e-02, -3.41852456e-02,  1.73697192e-02,\n         -1.64713115e-02,  3.88370305e-02, -1.02762088e-01,\n         -2.02187318e-02],\n        [ 8.29520542e-03, -4.67199497e-02, -5.17161675e-02,\n          1.16210468e-02,  1.05588399e-02,  1.51554104e-02,\n         -9.07315779e-03, -2.58661378e-02, -5.23981114e-04,\n          2.83131730e-02],\n        [-5.59406057e-02, -7.29899993e-03, -8.07971414e-03,\n          1.96592994e-02,  2.53295992e-02, -1.85325164e-02,\n          2.34051626e-02, -2.70986743e-02,  1.74478516e-02,\n          2.72835493e-02],\n        [-8.86570960e-02,  2.42001237e-03,  2.89924294e-02,\n          1.02836182e-02,  3.31247859e-02, -5.02273790e-04,\n          2.35025045e-02, -2.89872084e-02, -8.86968300e-02,\n          1.40377963e-02],\n        [-7.94704854e-02, -1.49135515e-02, -2.04325393e-02,\n          2.52428111e-02,  3.57301906e-03,  1.65091567e-02,\n          3.38644274e-02,  3.85805704e-02, -1.04235664e-01,\n         -2.07570251e-02],\n        [-3.32055315e-02, -2.10867412e-02, -2.10194848e-02,\n         -1.28705911e-02, -1.85191706e-02, -1.77331381e-02,\n         -1.27112195e-02,  1.71622466e-02,  2.87465705e-03,\n         -2.18893345e-02],\n        [ 1.31087303e-02, -1.42539358e-02,  2.73309611e-02,\n         -4.44071405e-02,  1.84253082e-02, -1.54902022e-02,\n          2.76833866e-02, -4.31007259e-02,  1.98607389e-02,\n         -4.53113869e-04],\n        [ 1.52227413e-02,  1.19296098e-02, -5.52578606e-02,\n         -6.05136901e-03, -3.26995142e-02, -5.08878343e-02,\n         -2.31977757e-02, -3.34219374e-02,  2.53972206e-02,\n          5.82341067e-02],\n        [-6.87360764e-03, -5.58368787e-02, -1.05705597e-02,\n         -2.18368936e-02, -3.08799255e-03, -3.68450768e-02,\n         -3.98817174e-02,  2.77228048e-03, -1.96771640e-02,\n         -5.99311069e-02],\n        [ 2.37395545e-03,  3.46390195e-02, -3.03231403e-02,\n         -1.09500615e-02,  4.50989697e-04, -4.28727008e-02,\n          6.41152915e-03, -3.60189602e-02,  3.61156426e-02,\n         -2.11277474e-02],\n        [ 1.79760866e-02, -2.53024846e-02,  3.02873552e-02,\n          1.20876469e-02,  1.52673349e-02,  1.14351399e-02,\n          1.26836654e-02, -2.02210657e-02, -8.88808817e-03,\n         -5.99016994e-02],\n        [-1.26531171e-02, -3.01334653e-02, -1.37646198e-02,\n         -2.32899580e-02, -4.20888374e-03, -1.66041888e-02,\n         -3.28037962e-02, -1.83401052e-02, -4.52419947e-04,\n         -6.18634373e-03],\n        [ 3.48351663e-03, -1.88792944e-02, -1.28330139e-03,\n         -4.19492275e-03,  9.52350721e-03,  2.66600121e-02,\n         -9.16257780e-03,  7.57685443e-03, -2.45281197e-02,\n          9.39606875e-03],\n        [ 6.35327073e-03, -4.37934957e-02, -5.37749566e-03,\n          7.96770118e-03, -4.00985926e-02, -4.34286967e-02,\n         -4.21970151e-02, -5.94317466e-02, -2.11880431e-02,\n         -1.98677741e-02],\n        [ 3.26622464e-02, -8.69173929e-02,  1.88379604e-02,\n         -1.65764131e-02,  6.20906148e-03,  2.70537013e-04,\n         -8.27094764e-02,  1.61037575e-02,  1.80234201e-02,\n         -2.92674638e-02],\n        [-1.53604560e-02,  3.36000184e-03, -1.28507987e-02,\n         -5.16383152e-04, -2.15432234e-02, -3.78801324e-03,\n          1.93954690e-03, -3.18754241e-02,  3.09277382e-02,\n          1.78058520e-02],\n        [-2.34812475e-03,  9.10850801e-03, -2.83440519e-02,\n          3.22990818e-03,  6.15461636e-03, -4.02103132e-03,\n          6.75728638e-03, -8.44900496e-03,  7.27526029e-04,\n          1.71759911e-02],\n        [ 9.86164529e-03,  1.66177880e-02,  2.54750717e-02,\n         -2.40346584e-02,  8.36996455e-03,  2.48997863e-02,\n         -5.12840711e-02,  2.74791470e-04, -1.67444032e-02,\n         -1.61450151e-02],\n        [ 1.33719305e-02,  6.46045804e-03,  1.14117218e-02,\n         -6.30739033e-02, -2.73176562e-03, -9.77308527e-02,\n         -1.96186826e-02, -3.70088331e-02,  2.14305837e-02,\n          1.54759716e-02],\n        [ 1.07662613e-03,  4.83601987e-02, -5.13864569e-02,\n         -5.78238368e-02, -1.48302708e-02, -3.51260565e-02,\n         -5.74172251e-02, -5.64490259e-02,  3.47430422e-03,\n          2.68105380e-02],\n        [ 2.42977887e-02, -3.82013828e-03, -4.42571472e-03,\n         -5.40709831e-02,  3.75289586e-03, -5.01508638e-02,\n         -6.72096014e-02, -2.07009278e-02,  3.04786600e-02,\n          1.40123693e-02],\n        [-9.22722463e-03,  4.81876684e-03, -2.03270894e-02,\n         -2.64042243e-03, -9.01495107e-03, -1.16611673e-02,\n         -2.64418032e-03, -1.35413576e-02, -3.77615215e-03,\n         -9.31445789e-03],\n        [-9.15555470e-03,  2.72233225e-02,  2.06888318e-02,\n         -3.47551815e-02,  3.78716700e-02, -1.18537620e-02,\n          2.54027620e-02,  1.93196647e-02, -5.15432134e-02,\n         -1.21363830e-02],\n        [ 1.92526374e-02, -2.23637149e-02,  5.49537642e-03,\n          1.47399027e-02,  4.20663990e-02, -6.34403005e-02,\n         -1.52928270e-02, -3.10442271e-03, -4.99852328e-03,\n          1.99989006e-02],\n        [ 1.48020554e-02, -2.16132663e-02,  1.83409173e-02,\n          8.28067423e-04,  3.02263200e-02, -1.50456075e-02,\n          5.73699810e-02,  3.34869488e-03, -1.12772502e-01,\n          2.08333619e-02],\n        [-8.60208869e-02, -6.24862053e-02, -9.52951796e-03,\n          1.61106009e-02,  1.72892250e-02,  1.40730068e-02,\n          1.91758666e-02,  3.87750799e-04, -1.13512166e-02,\n         -1.07708015e-03],\n        [-4.38985676e-02, -9.86527652e-02,  2.05232594e-02,\n         -1.26901735e-02,  2.86741573e-02,  3.42139862e-02,\n          3.79010364e-02,  4.79542231e-03, -1.07219808e-01,\n         -8.73112306e-02],\n        [-7.86216184e-02, -4.94442657e-02, -1.33011462e-02,\n          1.07000610e-02, -8.10166728e-03, -5.99495322e-02,\n         -3.89441266e-03, -2.49026865e-02, -1.28493505e-02,\n         -5.84786497e-02],\n        [-2.44430583e-02, -9.85802487e-02,  2.57670842e-02,\n          1.65204946e-02,  8.85153655e-03,  4.03709561e-02,\n         -1.22194849e-02,  4.05729674e-02, -4.63385172e-02,\n          1.28857587e-02],\n        [-2.00101621e-02, -5.72529808e-03, -2.34234389e-02,\n         -4.21657786e-02, -8.60390253e-03,  4.04944614e-04,\n         -2.79956521e-03, -2.44169142e-02, -2.77332347e-02,\n         -5.10497876e-02],\n        [-1.87086537e-02, -2.04536188e-02, -4.29024324e-02,\n          1.81295946e-02, -2.34004427e-02, -4.14987653e-03,\n         -5.60304821e-02,  2.10399777e-02,  1.57453939e-02,\n          4.10340056e-02],\n        [ 9.33160074e-03, -4.12770323e-02,  1.60560769e-03,\n          1.17952712e-02,  8.63393070e-04,  4.39733602e-02,\n         -5.38945245e-03, -4.30934653e-02, -4.76596504e-02,\n         -3.73781808e-02],\n        [-2.36914009e-02, -1.72998495e-02,  3.25669497e-02,\n         -3.82612436e-03,  6.13686768e-03, -3.93238962e-02,\n          1.30054336e-02,  7.35895708e-03,  4.09530103e-02,\n         -8.00038949e-02],\n        [-2.16189679e-03,  1.80848241e-02, -6.23021051e-02,\n          3.78063060e-02, -2.17639878e-02,  4.48295884e-02,\n          4.70698392e-03, -4.21125852e-02, -3.82230617e-03,\n         -1.76553708e-02],\n        [ 2.85185874e-02,  2.01060921e-02, -5.13056032e-02,\n          1.98131967e-02, -3.81262749e-02, -1.81318521e-02,\n          2.38387361e-02, -3.00661270e-02,  1.52699584e-02,\n         -9.23691259e-04],\n        [-5.36999293e-02,  1.27190556e-02,  2.11238861e-02,\n          1.69692524e-02, -1.93865169e-02,  2.13518478e-02,\n         -1.43424170e-02,  1.70371234e-02, -1.99941117e-02,\n          3.84727307e-02],\n        [ 2.76725087e-02, -1.91603415e-02, -9.43647046e-03,\n          3.68552878e-02, -7.99116567e-02,  4.04261658e-03,\n         -1.16584720e-02, -1.52374646e-02, -1.84302926e-02,\n         -2.28140112e-02],\n        [-1.40116960e-02, -2.48360839e-02,  5.57656400e-04,\n         -6.55257702e-02, -7.23751485e-02, -9.53666419e-02,\n         -1.75548177e-02, -2.09836569e-02,  1.42122973e-02,\n          1.05127133e-02],\n        [-1.50443679e-02, -1.07750623e-02,  1.63601469e-02,\n         -2.63176206e-02, -3.51653323e-02,  1.21022563e-03,\n          4.95031849e-03,  9.35904160e-02, -1.26164276e-02,\n         -4.85140309e-02],\n        [-7.54681006e-02, -3.64956968e-02, -3.50819752e-02,\n         -5.14489077e-02, -5.32033592e-02, -3.31792869e-02,\n         -1.28858492e-01, -3.34971882e-02, -1.69451088e-02,\n          3.03814467e-02],\n        [-2.22587306e-02, -4.48614955e-02,  2.53502117e-03,\n          2.75192801e-02,  5.51592000e-03,  1.56163368e-02,\n          3.46062444e-02, -4.88002896e-02,  3.42816338e-02,\n         -7.78435692e-02],\n        [ 3.71180624e-02,  1.21506704e-02, -2.74655912e-02,\n         -8.00582394e-02, -1.20406016e-03, -4.14521284e-02,\n         -1.41351242e-02, -5.16149634e-03, -1.57397464e-02,\n         -4.51404281e-04],\n        [-2.49175522e-02, -1.57357305e-02,  1.84948575e-02,\n         -1.12607004e-02,  2.51946580e-02, -4.33132285e-03,\n          1.41536016e-02, -1.96349062e-02, -4.80223633e-02,\n          8.51077400e-03],\n        [ 6.90134894e-03,  1.06300507e-02,  7.12065306e-03,\n         -1.97752267e-02, -1.97759978e-02, -2.36351099e-02,\n          1.66639313e-02, -3.62949409e-02,  1.15416953e-02,\n          1.71066783e-02],\n        [ 1.69227123e-02,  4.81175259e-03, -4.61407229e-02,\n         -3.98188084e-03, -4.60252501e-02,  2.59935157e-03,\n         -3.15318294e-02,  7.74865085e-03,  3.27093229e-02,\n          1.15903262e-02],\n        [ 2.57449481e-03, -3.27266450e-03, -2.17205123e-03,\n          1.00400597e-02,  7.34936493e-03, -3.11116967e-03,\n          8.66912119e-03,  8.55870545e-04,  3.34808952e-03,\n         -1.53265486e-03],\n        [ 5.76369837e-03,  1.10940393e-02,  2.21861387e-03,\n          4.93955566e-03,  5.15976548e-03,  9.23847407e-03,\n          2.20331061e-03,  4.32062242e-03, -8.13122839e-03,\n         -2.96682585e-02],\n        [-1.25383623e-02, -5.44163100e-02,  2.32835580e-02,\n          3.98279401e-03,  1.35222888e-02,  1.92192625e-02,\n          1.77913660e-03,  2.05163117e-02, -6.32648095e-02,\n          4.13575536e-03],\n        [ 2.73811407e-02,  1.16008474e-02,  1.87965631e-02,\n         -2.08300035e-02,  1.15038864e-02, -2.17564236e-02,\n         -3.97496037e-02,  1.00186374e-02, -2.56234221e-03,\n          5.10167144e-03],\n        [-1.37951951e-02, -2.69701891e-02, -9.28811729e-03,\n          1.19527513e-02, -3.56774069e-02,  6.18287688e-03,\n          2.21076352e-03, -3.39743905e-02, -3.08016762e-02,\n          1.28582260e-02],\n        [-7.44951307e-04,  3.21164727e-02, -3.23359780e-02,\n          2.52866056e-02,  2.45163962e-02, -2.73523834e-02,\n         -6.09046593e-03, -3.00728679e-02,  2.02435795e-02,\n         -1.61515288e-02],\n        [-1.19239194e-02,  5.73839294e-03, -5.32900961e-03,\n         -8.74050427e-03, -2.01234333e-02, -2.39543803e-03,\n         -3.84189188e-02, -2.50690011e-03, -1.90280955e-02,\n         -1.42704174e-02]], dtype\u003dfloat32),\n \u0027b4\u0027: array([-0.0738357 , -0.4598839 ,  0.261928  , -0.10970993,  0.5357228 ,\n        -0.1789521 ,  0.3748517 , -0.19394389, -0.0141777 , -0.22755295],\n       dtype\u003dfloat32)}"
            ]
          },
          "execution_count": 61,
          "metadata": {},
          "output_type": "execute_result"
        }
      ],
      "source": [
        "solver.best_params"
      ]
    },
    {
      "cell_type": "code",
      "execution_count": 64,
      "metadata": {
        "pycharm": {}
      },
      "outputs": [],
      "source": [
        "best_model \u003d solver.model"
      ]
    },
    {
      "cell_type": "markdown",
      "metadata": {
        "editable": true,
        "deletable": true,
        "pycharm": {}
      },
      "source": [
        "# Test you model\n",
        "Run your best model on the validation and test sets. You should achieve above 50% accuracy on the validation set."
      ]
    },
    {
      "cell_type": "code",
      "execution_count": 65,
      "metadata": {
        "collapsed": false,
        "editable": true,
        "deletable": true,
        "pycharm": {}
      },
      "outputs": [
        {
          "name": "stdout",
          "output_type": "stream",
          "text": [
            "Validation set accuracy:  0.528\nTest set accuracy:  0.52\n"
          ]
        }
      ],
      "source": [
        "y_test_pred \u003d np.argmax(best_model.loss(data[\u0027X_test\u0027]), axis\u003d1)\n",
        "y_val_pred \u003d np.argmax(best_model.loss(data[\u0027X_val\u0027]), axis\u003d1)\n",
        "print(\u0027Validation set accuracy: \u0027, (y_val_pred \u003d\u003d data[\u0027y_val\u0027]).mean())\n",
        "print(\u0027Test set accuracy: \u0027, (y_test_pred \u003d\u003d data[\u0027y_test\u0027]).mean())"
      ]
    }
  ],
  "metadata": {
    "kernelspec": {
      "display_name": "Python 3",
      "name": "python3",
      "language": "python"
    },
    "language_info": {
      "mimetype": "text/x-python",
      "nbconvert_exporter": "python",
      "name": "python",
      "file_extension": ".py",
      "version": "3.5.0",
      "pygments_lexer": "ipython3",
      "codemirror_mode": {
        "version": 3,
        "name": "ipython"
      }
    }
  },
  "nbformat": 4,
  "nbformat_minor": 0
}